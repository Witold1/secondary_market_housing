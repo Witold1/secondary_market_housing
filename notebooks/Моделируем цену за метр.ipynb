{
 "cells": [
  {
   "cell_type": "markdown",
   "metadata": {},
   "source": [
    "## План\n",
    "Так как мы уже **подготовили данные** с торговой площадки с лотами вторичной недвижимости (квартиры) в европейском мегаполисе,то можно приступить к использованию методов моделирования и анализа данных чобы **определить значимые для цены факторы** этой недвижимости.\n",
    "\n",
    "**Моделирование:**\n",
    "* Дополнительная предварительная обработка данных для используемых моделей\n",
    "    * Кодирование категориальных признаков \n",
    "* Моделирование\n",
    "    * Задача регрессии\n",
    "    * Схема валидации при подборе параметров: $50%$ отложенной выборки (половина имеющихся на рынке объявлений) со страдификацией по числу комнат\n",
    "    * Обучение логического алгоритма (градиентный бустинг) на всей доступной выборке (все доступные на рынке объявлений)\n",
    "    * Анализ построенных деревьев (признаки при построении первых деревьев, суммарное и среднее влияние признаков при подсчете информационного критерия, встречаемость признака в разбиениях; `“gain”, result contains total gains of splits which use the feature and “split”, result contains numbers of times the feature is used in a model`)\n",
    "\n",
    "* Дополнительный разведывательный анализ данных:\n",
    "    * Попарные корреляции интересных категориальных признаков\n",
    "    * Попарные корреляции интересных количественных признаков"
   ]
  },
  {
   "cell_type": "markdown",
   "metadata": {},
   "source": [
    "**Отчет 2: Влияние факторов на цену за метр у лотов**\n",
    "* Мы видим, что на нашей выборке самыми значимыми факторами влияющими на **цену предложения на метр^2** в 'обобщенной' Московской квартиры на рынке вторичной недвижимости оказываются **район и метро**. Причем, наибольший информационный вклад на имеющейся выборке вносит именно район, хотя незначительно чуть чаще и для объяснения цены в алгоритме используется метро.\n",
    "* Также, именно районы и метро встречаются в первых деревьях, и даже узлах деревьев бустинга наиболее часто.\n",
    "* Далее, **по мощности вклада** следуют возраст дома (также, он обратно связан с количеством этажей), вид ремонта (также, он еще и относительно часто встречается), площадь лота (которая, также, оказывает наибольшее влияние на абсолютную цену квартиры) и количество этажей. С другой стороны, **наиболее часто** в узлах наших деревьев далее встречаются возраст дома, площадь и количество этажей в доме. А так как, количество этажей сильно обратно скорелированно с возрастом дома, то есть, наиболее вероятно, что эти два критерия позволяют модели лучше разделить нашу выборку и уточняют зависимости в данных, а не используются в качестве попарной замены.\n",
    "* Доля куханной площади вносит относительно высокий вклад, и также часто встречается. В похожей, но менее значимой ситуации находятся этаж и тип дома.\n",
    "* Также, относительно часто встречаются такие факторы, как доля жилой площади, расстояние до метро, количество комнат (связано с площадью), однако их вклад не велик и вероятно они используются для разделение спорных лотов.\n",
    "\n",
    "Из интересного, \n",
    "* Даже методами описательного анализа можно подвердить вывод из статьи (Магнус, Пересецкий, 2011) о том, что цена за метр в квартирах большей площади возрастает. Также, она возрастает в квартирах с большим числом комнат, и, вероятно, возрастает и в квартирах с большим числом санузлов, потому что наличие более одного санузла сильнее скоррелировано с площадью, чем с количеством комнат\n",
    "* В зависимости от категории кол-ва комнат лота, значимость признаков может меняться"
   ]
  },
  {
   "cell_type": "markdown",
   "metadata": {},
   "source": [
    "#### Влияние ветки метро\n",
    "* Для измерения следует обработать данные по станциям, которые встречаются в более чем одной ветке. Например, станция Третьяковская по данным с портала открытых данных города Москвы ([ссылка](https://data.mos.ru/classifier/7704786030-stantsii-moskovskogo-metropolitena) расположена одновременно на трех ветках, одна из которых еще строится. Доступная выгрузка из источника данных не дает такой подробной информации. "
   ]
  },
  {
   "cell_type": "code",
   "execution_count": 1,
   "metadata": {},
   "outputs": [
    {
     "name": "stderr",
     "output_type": "stream",
     "text": [
      "D:\\Anaconda\\lib\\site-packages\\sklearn\\utils\\deprecation.py:144: FutureWarning: The sklearn.metrics.scorer module is  deprecated in version 0.22 and will be removed in version 0.24. The corresponding classes / functions should instead be imported from sklearn.metrics. Anything that cannot be imported from sklearn.metrics is now part of the private API.\n",
      "  warnings.warn(message, FutureWarning)\n",
      "D:\\Anaconda\\lib\\site-packages\\sklearn\\utils\\deprecation.py:144: FutureWarning: The sklearn.feature_selection.base module is  deprecated in version 0.22 and will be removed in version 0.24. The corresponding classes / functions should instead be imported from sklearn.feature_selection. Anything that cannot be imported from sklearn.feature_selection is now part of the private API.\n",
      "  warnings.warn(message, FutureWarning)\n",
      "Using TensorFlow backend.\n"
     ]
    }
   ],
   "source": [
    "import numpy as np\n",
    "import pandas as pd\n",
    "import matplotlib.pyplot as plt\n",
    "import seaborn as sns\n",
    "\n",
    "import sklearn\n",
    "from sklearn.preprocessing import LabelEncoder\n",
    "import statsmodels\n",
    "PATH_TO_PROCESSED_DATA = '../data/'\n",
    "PATH_TO_IMAGES = '../imgs/'\n",
    "\n",
    "from collections import defaultdict\n",
    "import logging\n",
    "logger = logging.getLogger()\n",
    "logger.setLevel(logging.INFO)\n",
    "\n",
    "import lightgbm as lgbm\n",
    "import eli5\n",
    "import scipy.stats"
   ]
  },
  {
   "cell_type": "code",
   "execution_count": 2,
   "metadata": {},
   "outputs": [
    {
     "name": "stdout",
     "output_type": "stream",
     "text": [
      "(14329, 25)\n",
      "1.98 Mb\n"
     ]
    }
   ],
   "source": [
    "df = pd.read_csv(PATH_TO_PROCESSED_DATA + 'features_dataset.csv', index_col=[0])\n",
    "target = pd.read_csv(PATH_TO_PROCESSED_DATA + 'target_column.csv', index_col=[0])\n",
    "print(df.shape)\n",
    "print(f'{df.memory_usage().sum() / 1024 / 1024 :.2f} Mb')\n",
    "assert df.shape[0] == target.shape[0]"
   ]
  },
  {
   "cell_type": "code",
   "execution_count": 3,
   "metadata": {},
   "outputs": [
    {
     "data": {
      "text/plain": [
       "Округ                                 12\n",
       "Район                                153\n",
       "Площадь                             1736\n",
       "Площадь лог                         1736\n",
       "Кол-во комнат                          7\n",
       "Этаж                                  73\n",
       "Этажей в доме                         73\n",
       "Первый этаж                            2\n",
       "Последний этаж                         2\n",
       "Метро                                272\n",
       "Расстояние до метро (ед)              57\n",
       "Расстояние указано пешком              2\n",
       "Расстояние указано на транспорте       2\n",
       "Тип дома                               7\n",
       "Указан раздельный санузел              2\n",
       "Несколько санузлов                     2\n",
       "Балкон указан                          2\n",
       "Окна                                   3\n",
       "Окна во двор                           2\n",
       "Ремонт                                 4\n",
       "Наличие ремонта                        2\n",
       "Возраст дома                         126\n",
       "Доля жилой площади                  6121\n",
       "Доля куханной площади               5252\n",
       "Площадь кухни                        315\n",
       "dtype: int64"
      ]
     },
     "execution_count": 3,
     "metadata": {},
     "output_type": "execute_result"
    }
   ],
   "source": [
    "df.nunique()"
   ]
  },
  {
   "cell_type": "markdown",
   "metadata": {},
   "source": [
    "### Предобрабатываем"
   ]
  },
  {
   "cell_type": "markdown",
   "metadata": {},
   "source": [
    "> Закодируем `категориальные признки`: Округ, Район, Метро, Кол-во комнат"
   ]
  },
  {
   "cell_type": "code",
   "execution_count": 4,
   "metadata": {},
   "outputs": [
    {
     "data": {
      "text/html": [
       "<div>\n",
       "<style scoped>\n",
       "    .dataframe tbody tr th:only-of-type {\n",
       "        vertical-align: middle;\n",
       "    }\n",
       "\n",
       "    .dataframe tbody tr th {\n",
       "        vertical-align: top;\n",
       "    }\n",
       "\n",
       "    .dataframe thead th {\n",
       "        text-align: right;\n",
       "    }\n",
       "</style>\n",
       "<table border=\"1\" class=\"dataframe\">\n",
       "  <thead>\n",
       "    <tr style=\"text-align: right;\">\n",
       "      <th></th>\n",
       "      <th>Округ</th>\n",
       "      <th>Район</th>\n",
       "      <th>Площадь</th>\n",
       "      <th>Площадь лог</th>\n",
       "      <th>Кол-во комнат</th>\n",
       "      <th>Этаж</th>\n",
       "      <th>Этажей в доме</th>\n",
       "      <th>Первый этаж</th>\n",
       "      <th>Последний этаж</th>\n",
       "      <th>Метро</th>\n",
       "      <th>...</th>\n",
       "      <th>Несколько санузлов</th>\n",
       "      <th>Балкон указан</th>\n",
       "      <th>Окна</th>\n",
       "      <th>Окна во двор</th>\n",
       "      <th>Ремонт</th>\n",
       "      <th>Наличие ремонта</th>\n",
       "      <th>Возраст дома</th>\n",
       "      <th>Доля жилой площади</th>\n",
       "      <th>Доля куханной площади</th>\n",
       "      <th>Площадь кухни</th>\n",
       "    </tr>\n",
       "  </thead>\n",
       "  <tbody>\n",
       "    <tr>\n",
       "      <th>0</th>\n",
       "      <td>ВАО</td>\n",
       "      <td>р-н Гольяново</td>\n",
       "      <td>33.0</td>\n",
       "      <td>3.496508</td>\n",
       "      <td>1</td>\n",
       "      <td>9.0</td>\n",
       "      <td>9.0</td>\n",
       "      <td>False</td>\n",
       "      <td>True</td>\n",
       "      <td>Первомайская</td>\n",
       "      <td>...</td>\n",
       "      <td>False</td>\n",
       "      <td>False</td>\n",
       "      <td>Во двор</td>\n",
       "      <td>True</td>\n",
       "      <td>Без ремонта</td>\n",
       "      <td>False</td>\n",
       "      <td>51.0</td>\n",
       "      <td>0.484848</td>\n",
       "      <td>0.212121</td>\n",
       "      <td>7.0</td>\n",
       "    </tr>\n",
       "  </tbody>\n",
       "</table>\n",
       "<p>1 rows × 25 columns</p>\n",
       "</div>"
      ],
      "text/plain": [
       "  Округ          Район  Площадь  Площадь лог Кол-во комнат  Этаж  \\\n",
       "0   ВАО  р-н Гольяново     33.0     3.496508             1   9.0   \n",
       "\n",
       "   Этажей в доме  Первый этаж  Последний этаж         Метро  ...  \\\n",
       "0            9.0        False            True  Первомайская  ...   \n",
       "\n",
       "   Несколько санузлов  Балкон указан     Окна Окна во двор       Ремонт  \\\n",
       "0               False          False  Во двор         True  Без ремонта   \n",
       "\n",
       "   Наличие ремонта  Возраст дома Доля жилой площади  Доля куханной площади  \\\n",
       "0            False          51.0           0.484848               0.212121   \n",
       "\n",
       "  Площадь кухни  \n",
       "0           7.0  \n",
       "\n",
       "[1 rows x 25 columns]"
      ]
     },
     "execution_count": 4,
     "metadata": {},
     "output_type": "execute_result"
    }
   ],
   "source": [
    "df.head(1)"
   ]
  },
  {
   "cell_type": "code",
   "execution_count": 5,
   "metadata": {},
   "outputs": [
    {
     "name": "stderr",
     "output_type": "stream",
     "text": [
      "INFO:root:Предобрабатываем: ['Округ', 'Район', 'Кол-во комнат', 'Метро', 'Тип дома', 'Окна', 'Ремонт'].\n",
      "INFO:root:Предобработка: завершение\n"
     ]
    }
   ],
   "source": [
    "logging.info(f'Предобрабатываем: {df.columns[df.dtypes == \"object\"].values.tolist()}.')\n",
    "label_encoder_dict = defaultdict(LabelEncoder)\n",
    "\n",
    "# допустим, что это в функции\n",
    "df['Округ'] = df['Округ'].astype(str)\n",
    "df['Район'] = df['Район'].astype(str)\n",
    "df['Кол-во комнат'] = df['Кол-во комнат'].astype(str)\n",
    "df['Метро'] = df['Метро'].astype(str)\n",
    "df['Тип дома'] = df['Тип дома'].astype(str)\n",
    "df['Окна'] = df['Окна'].astype(str)\n",
    "df['Ремонт'] = df['Ремонт'].astype(str)\n",
    "\n",
    "# df['Доля жилой площади'] = df['Доля жилой площади'].fillna(df.groupby('Кол-во комнат')['Доля жилой площади'].transform('median'))\n",
    "# pd.get_dummies(df, columns=['Кол-во комнат', 'Метро', 'Тип дома', 'Окна', 'Ремонт'])\n",
    "# df['Площадь'] = np.log(df['Площадь'])\n",
    "\n",
    "cat_columns = df.columns[df.dtypes == 'object']\n",
    "df[cat_columns] = df[cat_columns].apply(lambda x: label_encoder_dict[x.name].fit_transform(x)).astype('category')\n",
    "# label_encoder_dict['Округ'].inverse_transform([8])\n",
    "# df[cat_columns].apply(lambda x: label_encoder_dict[x.name].inverse_transform(x))\n",
    "\n",
    "logging.info(f'Предобработка: завершение')"
   ]
  },
  {
   "cell_type": "markdown",
   "metadata": {},
   "source": [
    "### Моделируем"
   ]
  },
  {
   "cell_type": "markdown",
   "metadata": {},
   "source": [
    "> Зависимость `цены за метр^2` от признаков лотов (независимо от кол-ва комнат)"
   ]
  },
  {
   "cell_type": "code",
   "execution_count": 6,
   "metadata": {},
   "outputs": [],
   "source": [
    "def metrics_report(y_pred : np.array, y_true : np.array):\n",
    "    '''\n",
    "    Вывод метрик качества и графика рассеивания\n",
    "    :input:\n",
    "        predicted and background truth targets\n",
    "    :return: \n",
    "        R2 and Mean Absolute Errors metrics values\n",
    "    '''\n",
    "    r2 = sklearn.metrics.r2_score(y_pred, y_true)\n",
    "    mae = sklearn.metrics.mean_absolute_error(y_pred, y_true)\n",
    "    mse = sklearn.metrics.mean_squared_error(y_pred, y_true)\n",
    "    \n",
    "    plt.scatter(y=y_pred, x=y_true, alpha=0.25);\n",
    "    plt.ylabel('predicted log(Цена за метр^2)')\n",
    "    plt.xlabel('log(Цена за метр^2)')\n",
    "    plt.title('Диаграмма рассеивания (log(ˆp), log(p))')\n",
    "    \n",
    "    logging.info(f'R2 = {r2:.2f}; MAE = {mae:.2f}; MSE = {mse:.2f}')\n",
    "    return r2, mae, mse"
   ]
  },
  {
   "cell_type": "code",
   "execution_count": 7,
   "metadata": {},
   "outputs": [
    {
     "name": "stderr",
     "output_type": "stream",
     "text": [
      "INFO:root:Моделируем: Цена за метр^2.\n",
      "INFO:root:Не используем: ['Площадь', 'Площадь кухни'].\n",
      "INFO:root:Используем: ['Округ', 'Район', 'Площадь лог', 'Кол-во комнат', 'Этаж', 'Этажей в доме', 'Первый этаж', 'Последний этаж', 'Метро', 'Расстояние до метро (ед)', 'Расстояние указано пешком', 'Расстояние указано на транспорте', 'Тип дома', 'Указан раздельный санузел', 'Несколько санузлов', 'Балкон указан', 'Окна', 'Окна во двор', 'Ремонт', 'Наличие ремонта', 'Возраст дома', 'Доля жилой площади', 'Доля куханной площади'].\n"
     ]
    }
   ],
   "source": [
    "cols_not_to_use = ['Площадь', 'Площадь кухни']\n",
    "target_col = 'Цена за метр^2'\n",
    "\n",
    "logging.info(f'Моделируем: {target_col}.')\n",
    "logging.info(f'Не используем: {cols_not_to_use}.')\n",
    "logging.info(f'Используем: {list(df.columns[~df.columns.isin(cols_not_to_use)])}.')"
   ]
  },
  {
   "cell_type": "code",
   "execution_count": 8,
   "metadata": {},
   "outputs": [],
   "source": [
    "regressor = lgbm.LGBMRegressor(max_depth=7, n_estimators=500,\n",
    "                               num_leaves=12, reg_alpha=5, reg_beta=2,\n",
    "                               importance_type='split', \n",
    "                               random_state=42)"
   ]
  },
  {
   "cell_type": "markdown",
   "metadata": {},
   "source": [
    "Посмотрим на метрики качества (насколько хорошо наш алгоритм может объяснить имеющиеся данные)"
   ]
  },
  {
   "cell_type": "code",
   "execution_count": 9,
   "metadata": {},
   "outputs": [
    {
     "name": "stderr",
     "output_type": "stream",
     "text": [
      "INFO:root:R2 = 0.93; MAE = 0.08; MSE = 0.01\n"
     ]
    },
    {
     "data": {
      "image/png": "[encoded data removed]",
      "text/plain": [
       "<Figure size 432x288 with 1 Axes>"
      ]
     },
     "metadata": {
      "needs_background": "light"
     },
     "output_type": "display_data"
    }
   ],
   "source": [
    "regressor.fit(df.iloc[:, ~df.columns.isin(cols_not_to_use)], \n",
    "              np.log(target[target_col].values));\n",
    "metrics_report(regressor.predict(df.iloc[:, ~df.columns.isin(cols_not_to_use)]),\n",
    "               np.log(target[target_col].values));"
   ]
  },
  {
   "cell_type": "markdown",
   "metadata": {},
   "source": [
    "Посмотрим на относительные ошибки"
   ]
  },
  {
   "cell_type": "code",
   "execution_count": 10,
   "metadata": {},
   "outputs": [
    {
     "data": {
      "text/plain": [
       "Кол-во комнат\n",
       "0    0.087381\n",
       "1    0.112386\n",
       "2    0.125094\n",
       "3    0.146145\n",
       "4    0.175914\n",
       "5    0.275023\n",
       "6    0.113187\n",
       "Name: Ошибка, dtype: float64"
      ]
     },
     "execution_count": 10,
     "metadata": {},
     "output_type": "execute_result"
    }
   ],
   "source": [
    "z = np.exp(regressor.predict(df.iloc[:, ~df.columns.isin(cols_not_to_use)])) - target[target_col].values\n",
    "z = abs(z) / target[target_col].values\n",
    "z = pd.DataFrame(z, index=df.iloc[:, ~df.columns.isin(cols_not_to_use)].index, columns=['Ошибка'])\n",
    "z['Кол-во комнат'] = df['Кол-во комнат']\n",
    "z['Площадь'] = df['Площадь']\n",
    "\n",
    "z.groupby('Кол-во комнат')['Ошибка'].quantile(0.8)"
   ]
  },
  {
   "cell_type": "code",
   "execution_count": 11,
   "metadata": {},
   "outputs": [
    {
     "data": {
      "image/png": "[encoded data removed]",
      "text/plain": [
       "<Figure size 432x288 with 1 Axes>"
      ]
     },
     "metadata": {
      "needs_background": "light"
     },
     "output_type": "display_data"
    }
   ],
   "source": [
    "y = df.iloc[:, ~df.columns.isin(cols_not_to_use)].columns[regressor.feature_importances_.argsort()[::-1][:5]]\n",
    "x = regressor.feature_importances_[regressor.feature_importances_.argsort()[::-1][:5]]\n",
    "plt.barh(width=x, y=y);"
   ]
  },
  {
   "cell_type": "code",
   "execution_count": 12,
   "metadata": {},
   "outputs": [
    {
     "data": {
      "text/html": [
       "\n",
       "    <style>\n",
       "    table.eli5-weights tr:hover {\n",
       "        filter: brightness(85%);\n",
       "    }\n",
       "</style>\n",
       "\n",
       "\n",
       "\n",
       "    \n",
       "\n",
       "    \n",
       "\n",
       "    \n",
       "\n",
       "    \n",
       "\n",
       "    \n",
       "\n",
       "    \n",
       "\n",
       "\n",
       "    \n",
       "\n",
       "    \n",
       "\n",
       "    \n",
       "\n",
       "    \n",
       "\n",
       "    \n",
       "\n",
       "    \n",
       "\n",
       "\n",
       "    \n",
       "\n",
       "    \n",
       "\n",
       "    \n",
       "\n",
       "    \n",
       "\n",
       "    \n",
       "        <table class=\"eli5-weights eli5-feature-importances\" style=\"border-collapse: collapse; border: none; margin-top: 0em; table-layout: auto;\">\n",
       "    <thead>\n",
       "    <tr style=\"border: none;\">\n",
       "        <th style=\"padding: 0 1em 0 0.5em; text-align: right; border: none;\">Weight</th>\n",
       "        <th style=\"padding: 0 0.5em 0 0.5em; text-align: left; border: none;\">Feature</th>\n",
       "    </tr>\n",
       "    </thead>\n",
       "    <tbody>\n",
       "    \n",
       "        <tr style=\"background-color: hsl(120, 100.00%, 80.00%); border: none;\">\n",
       "            <td style=\"padding: 0 1em 0 0.5em; text-align: right; border: none;\">\n",
       "                0.6830\n",
       "                \n",
       "            </td>\n",
       "            <td style=\"padding: 0 0.5em 0 0.5em; text-align: left; border: none;\">\n",
       "                Район\n",
       "            </td>\n",
       "        </tr>\n",
       "    \n",
       "        <tr style=\"background-color: hsl(120, 100.00%, 92.42%); border: none;\">\n",
       "            <td style=\"padding: 0 1em 0 0.5em; text-align: right; border: none;\">\n",
       "                0.1708\n",
       "                \n",
       "            </td>\n",
       "            <td style=\"padding: 0 0.5em 0 0.5em; text-align: left; border: none;\">\n",
       "                Метро\n",
       "            </td>\n",
       "        </tr>\n",
       "    \n",
       "        <tr style=\"background-color: hsl(120, 100.00%, 97.21%); border: none;\">\n",
       "            <td style=\"padding: 0 1em 0 0.5em; text-align: right; border: none;\">\n",
       "                0.0410\n",
       "                \n",
       "            </td>\n",
       "            <td style=\"padding: 0 0.5em 0 0.5em; text-align: left; border: none;\">\n",
       "                Возраст дома\n",
       "            </td>\n",
       "        </tr>\n",
       "    \n",
       "        <tr style=\"background-color: hsl(120, 100.00%, 97.89%); border: none;\">\n",
       "            <td style=\"padding: 0 1em 0 0.5em; text-align: right; border: none;\">\n",
       "                0.0274\n",
       "                \n",
       "            </td>\n",
       "            <td style=\"padding: 0 0.5em 0 0.5em; text-align: left; border: none;\">\n",
       "                Ремонт\n",
       "            </td>\n",
       "        </tr>\n",
       "    \n",
       "        <tr style=\"background-color: hsl(120, 100.00%, 98.03%); border: none;\">\n",
       "            <td style=\"padding: 0 1em 0 0.5em; text-align: right; border: none;\">\n",
       "                0.0250\n",
       "                \n",
       "            </td>\n",
       "            <td style=\"padding: 0 0.5em 0 0.5em; text-align: left; border: none;\">\n",
       "                Площадь лог\n",
       "            </td>\n",
       "        </tr>\n",
       "    \n",
       "        <tr style=\"background-color: hsl(120, 100.00%, 98.39%); border: none;\">\n",
       "            <td style=\"padding: 0 1em 0 0.5em; text-align: right; border: none;\">\n",
       "                0.0186\n",
       "                \n",
       "            </td>\n",
       "            <td style=\"padding: 0 0.5em 0 0.5em; text-align: left; border: none;\">\n",
       "                Этажей в доме\n",
       "            </td>\n",
       "        </tr>\n",
       "    \n",
       "        <tr style=\"background-color: hsl(120, 100.00%, 98.85%); border: none;\">\n",
       "            <td style=\"padding: 0 1em 0 0.5em; text-align: right; border: none;\">\n",
       "                0.0115\n",
       "                \n",
       "            </td>\n",
       "            <td style=\"padding: 0 0.5em 0 0.5em; text-align: left; border: none;\">\n",
       "                Доля куханной площади\n",
       "            </td>\n",
       "        </tr>\n",
       "    \n",
       "        <tr style=\"background-color: hsl(120, 100.00%, 99.37%); border: none;\">\n",
       "            <td style=\"padding: 0 1em 0 0.5em; text-align: right; border: none;\">\n",
       "                0.0049\n",
       "                \n",
       "            </td>\n",
       "            <td style=\"padding: 0 0.5em 0 0.5em; text-align: left; border: none;\">\n",
       "                Тип дома\n",
       "            </td>\n",
       "        </tr>\n",
       "    \n",
       "        <tr style=\"background-color: hsl(120, 100.00%, 99.37%); border: none;\">\n",
       "            <td style=\"padding: 0 1em 0 0.5em; text-align: right; border: none;\">\n",
       "                0.0049\n",
       "                \n",
       "            </td>\n",
       "            <td style=\"padding: 0 0.5em 0 0.5em; text-align: left; border: none;\">\n",
       "                Этаж\n",
       "            </td>\n",
       "        </tr>\n",
       "    \n",
       "        <tr style=\"background-color: hsl(120, 100.00%, 99.53%); border: none;\">\n",
       "            <td style=\"padding: 0 1em 0 0.5em; text-align: right; border: none;\">\n",
       "                0.0032\n",
       "                \n",
       "            </td>\n",
       "            <td style=\"padding: 0 0.5em 0 0.5em; text-align: left; border: none;\">\n",
       "                Кол-во комнат\n",
       "            </td>\n",
       "        </tr>\n",
       "    \n",
       "        <tr style=\"background-color: hsl(120, 100.00%, 99.60%); border: none;\">\n",
       "            <td style=\"padding: 0 1em 0 0.5em; text-align: right; border: none;\">\n",
       "                0.0025\n",
       "                \n",
       "            </td>\n",
       "            <td style=\"padding: 0 0.5em 0 0.5em; text-align: left; border: none;\">\n",
       "                Округ\n",
       "            </td>\n",
       "        </tr>\n",
       "    \n",
       "        <tr style=\"background-color: hsl(120, 100.00%, 99.65%); border: none;\">\n",
       "            <td style=\"padding: 0 1em 0 0.5em; text-align: right; border: none;\">\n",
       "                0.0021\n",
       "                \n",
       "            </td>\n",
       "            <td style=\"padding: 0 0.5em 0 0.5em; text-align: left; border: none;\">\n",
       "                Доля жилой площади\n",
       "            </td>\n",
       "        </tr>\n",
       "    \n",
       "        <tr style=\"background-color: hsl(120, 100.00%, 99.72%); border: none;\">\n",
       "            <td style=\"padding: 0 1em 0 0.5em; text-align: right; border: none;\">\n",
       "                0.0015\n",
       "                \n",
       "            </td>\n",
       "            <td style=\"padding: 0 0.5em 0 0.5em; text-align: left; border: none;\">\n",
       "                Расстояние до метро (ед)\n",
       "            </td>\n",
       "        </tr>\n",
       "    \n",
       "        <tr style=\"background-color: hsl(120, 100.00%, 99.73%); border: none;\">\n",
       "            <td style=\"padding: 0 1em 0 0.5em; text-align: right; border: none;\">\n",
       "                0.0014\n",
       "                \n",
       "            </td>\n",
       "            <td style=\"padding: 0 0.5em 0 0.5em; text-align: left; border: none;\">\n",
       "                Наличие ремонта\n",
       "            </td>\n",
       "        </tr>\n",
       "    \n",
       "        <tr style=\"background-color: hsl(120, 100.00%, 99.80%); border: none;\">\n",
       "            <td style=\"padding: 0 1em 0 0.5em; text-align: right; border: none;\">\n",
       "                0.0009\n",
       "                \n",
       "            </td>\n",
       "            <td style=\"padding: 0 0.5em 0 0.5em; text-align: left; border: none;\">\n",
       "                Окна\n",
       "            </td>\n",
       "        </tr>\n",
       "    \n",
       "        <tr style=\"background-color: hsl(120, 100.00%, 99.90%); border: none;\">\n",
       "            <td style=\"padding: 0 1em 0 0.5em; text-align: right; border: none;\">\n",
       "                0.0004\n",
       "                \n",
       "            </td>\n",
       "            <td style=\"padding: 0 0.5em 0 0.5em; text-align: left; border: none;\">\n",
       "                Последний этаж\n",
       "            </td>\n",
       "        </tr>\n",
       "    \n",
       "        <tr style=\"background-color: hsl(120, 100.00%, 99.92%); border: none;\">\n",
       "            <td style=\"padding: 0 1em 0 0.5em; text-align: right; border: none;\">\n",
       "                0.0003\n",
       "                \n",
       "            </td>\n",
       "            <td style=\"padding: 0 0.5em 0 0.5em; text-align: left; border: none;\">\n",
       "                Указан раздельный санузел\n",
       "            </td>\n",
       "        </tr>\n",
       "    \n",
       "        <tr style=\"background-color: hsl(120, 100.00%, 99.94%); border: none;\">\n",
       "            <td style=\"padding: 0 1em 0 0.5em; text-align: right; border: none;\">\n",
       "                0.0002\n",
       "                \n",
       "            </td>\n",
       "            <td style=\"padding: 0 0.5em 0 0.5em; text-align: left; border: none;\">\n",
       "                Расстояние указано на транспорте\n",
       "            </td>\n",
       "        </tr>\n",
       "    \n",
       "        <tr style=\"background-color: hsl(120, 100.00%, 99.94%); border: none;\">\n",
       "            <td style=\"padding: 0 1em 0 0.5em; text-align: right; border: none;\">\n",
       "                0.0002\n",
       "                \n",
       "            </td>\n",
       "            <td style=\"padding: 0 0.5em 0 0.5em; text-align: left; border: none;\">\n",
       "                Балкон указан\n",
       "            </td>\n",
       "        </tr>\n",
       "    \n",
       "        <tr style=\"background-color: hsl(120, 100.00%, 99.94%); border: none;\">\n",
       "            <td style=\"padding: 0 1em 0 0.5em; text-align: right; border: none;\">\n",
       "                0.0002\n",
       "                \n",
       "            </td>\n",
       "            <td style=\"padding: 0 0.5em 0 0.5em; text-align: left; border: none;\">\n",
       "                Окна во двор\n",
       "            </td>\n",
       "        </tr>\n",
       "    \n",
       "    \n",
       "        \n",
       "            <tr style=\"background-color: hsl(120, 100.00%, 99.94%); border: none;\">\n",
       "                <td colspan=\"2\" style=\"padding: 0 0.5em 0 0.5em; text-align: center; border: none; white-space: nowrap;\">\n",
       "                    <i>&hellip; 3 more &hellip;</i>\n",
       "                </td>\n",
       "            </tr>\n",
       "        \n",
       "    \n",
       "    </tbody>\n",
       "</table>\n",
       "    \n",
       "\n",
       "    \n",
       "\n",
       "\n",
       "    \n",
       "\n",
       "    \n",
       "\n",
       "    \n",
       "\n",
       "    \n",
       "\n",
       "    \n",
       "\n",
       "    \n",
       "\n",
       "\n",
       "\n"
      ],
      "text/plain": [
       "Explanation(estimator=\"LGBMRegressor(boosting_type='gbdt', class_weight=None, colsample_bytree=1.0,\\n              importance_type='split', learning_rate=0.1, max_depth=7,\\n              min_child_samples=20, min_child_weight=0.001, min_split_gain=0.0,\\n              n_estimators=500, n_jobs=-1, num_leaves=12, objective=None,\\n              random_state=42, reg_alpha=5, reg_beta=2, reg_lambda=0.0,\\n              silent=True, subsample=1.0, subsample_for_bin=200000,\\n              subsample_freq=0)\", description='\\nLightGBM feature importances; values are numbers 0 <= x <= 1;\\nall values sum to 1.\\n', error=None, method='feature importances', is_regression=True, targets=None, feature_importances=FeatureImportances(importances=[FeatureWeight(feature='Район', weight=0.6829924512373979, std=None, value=None), FeatureWeight(feature='Метро', weight=0.17077249308812165, std=None, value=None), FeatureWeight(feature='Возраст дома', weight=0.040962387838741884, std=None, value=None), FeatureWeight(feature='Ремонт', weight=0.027426801078503874, std=None, value=None), FeatureWeight(feature='Площадь лог', weight=0.02500215690580606, std=None, value=None), FeatureWeight(feature='Этажей в доме', weight=0.018596794982637395, std=None, value=None), FeatureWeight(feature='Доля куханной площади', weight=0.011497704449433571, std=None, value=None), FeatureWeight(feature='Тип дома', weight=0.004903056768619319, std=None, value=None), FeatureWeight(feature='Этаж', weight=0.004874652670269438, std=None, value=None), FeatureWeight(feature='Кол-во комнат', weight=0.003231538182043075, std=None, value=None), FeatureWeight(feature='Округ', weight=0.0025174183286941093, std=None, value=None), FeatureWeight(feature='Доля жилой площади', weight=0.0021354221854067846, std=None, value=None), FeatureWeight(feature='Расстояние до метро (ед)', weight=0.0015378095305454977, std=None, value=None), FeatureWeight(feature='Наличие ремонта', weight=0.001449398867658047, std=None, value=None), FeatureWeight(feature='Окна', weight=0.0009242241368549115, std=None, value=None), FeatureWeight(feature='Последний этаж', weight=0.00037470988862709534, std=None, value=None), FeatureWeight(feature='Указан раздельный санузел', weight=0.000250138312282039, std=None, value=None), FeatureWeight(feature='Расстояние указано на транспорте', weight=0.00017869342682141814, std=None, value=None), FeatureWeight(feature='Балкон указан', weight=0.000176989790843132, std=None, value=None), FeatureWeight(feature='Окна во двор', weight=0.0001551453549257781, std=None, value=None)], remaining=3), decision_tree=None, highlight_spaces=None, transition_features=None, image=None)"
      ]
     },
     "execution_count": 12,
     "metadata": {},
     "output_type": "execute_result"
    }
   ],
   "source": [
    "eli5.explain_weights_lightgbm(regressor, vec=None, top=20, \n",
    "                         target_names=None, \n",
    "                         targets=None, \n",
    "                         feature_names=df.columns[~df.columns.isin(cols_not_to_use)].values, \n",
    "                         feature_re=None, \n",
    "                         feature_filter=None, \n",
    "                         importance_type='gain')"
   ]
  },
  {
   "cell_type": "code",
   "execution_count": 13,
   "metadata": {},
   "outputs": [
    {
     "data": {
      "text/html": [
       "\n",
       "    <style>\n",
       "    table.eli5-weights tr:hover {\n",
       "        filter: brightness(85%);\n",
       "    }\n",
       "</style>\n",
       "\n",
       "\n",
       "\n",
       "    \n",
       "\n",
       "    \n",
       "\n",
       "    \n",
       "\n",
       "    \n",
       "\n",
       "    \n",
       "\n",
       "    \n",
       "\n",
       "\n",
       "    \n",
       "\n",
       "    \n",
       "\n",
       "    \n",
       "\n",
       "    \n",
       "\n",
       "    \n",
       "\n",
       "    \n",
       "\n",
       "\n",
       "    \n",
       "\n",
       "    \n",
       "\n",
       "    \n",
       "\n",
       "    \n",
       "\n",
       "    \n",
       "        <table class=\"eli5-weights eli5-feature-importances\" style=\"border-collapse: collapse; border: none; margin-top: 0em; table-layout: auto;\">\n",
       "    <thead>\n",
       "    <tr style=\"border: none;\">\n",
       "        <th style=\"padding: 0 1em 0 0.5em; text-align: right; border: none;\">Weight</th>\n",
       "        <th style=\"padding: 0 0.5em 0 0.5em; text-align: left; border: none;\">Feature</th>\n",
       "    </tr>\n",
       "    </thead>\n",
       "    <tbody>\n",
       "    \n",
       "        <tr style=\"background-color: hsl(120, 100.00%, 80.00%); border: none;\">\n",
       "            <td style=\"padding: 0 1em 0 0.5em; text-align: right; border: none;\">\n",
       "                0.2638\n",
       "                \n",
       "            </td>\n",
       "            <td style=\"padding: 0 0.5em 0 0.5em; text-align: left; border: none;\">\n",
       "                Метро\n",
       "            </td>\n",
       "        </tr>\n",
       "    \n",
       "        <tr style=\"background-color: hsl(120, 100.00%, 81.87%); border: none;\">\n",
       "            <td style=\"padding: 0 1em 0 0.5em; text-align: right; border: none;\">\n",
       "                0.2293\n",
       "                \n",
       "            </td>\n",
       "            <td style=\"padding: 0 0.5em 0 0.5em; text-align: left; border: none;\">\n",
       "                Район\n",
       "            </td>\n",
       "        </tr>\n",
       "    \n",
       "        <tr style=\"background-color: hsl(120, 100.00%, 90.66%); border: none;\">\n",
       "            <td style=\"padding: 0 1em 0 0.5em; text-align: right; border: none;\">\n",
       "                0.0889\n",
       "                \n",
       "            </td>\n",
       "            <td style=\"padding: 0 0.5em 0 0.5em; text-align: left; border: none;\">\n",
       "                Площадь лог\n",
       "            </td>\n",
       "        </tr>\n",
       "    \n",
       "        <tr style=\"background-color: hsl(120, 100.00%, 91.09%); border: none;\">\n",
       "            <td style=\"padding: 0 1em 0 0.5em; text-align: right; border: none;\">\n",
       "                0.0831\n",
       "                \n",
       "            </td>\n",
       "            <td style=\"padding: 0 0.5em 0 0.5em; text-align: left; border: none;\">\n",
       "                Возраст дома\n",
       "            </td>\n",
       "        </tr>\n",
       "    \n",
       "        <tr style=\"background-color: hsl(120, 100.00%, 93.52%); border: none;\">\n",
       "            <td style=\"padding: 0 1em 0 0.5em; text-align: right; border: none;\">\n",
       "                0.0527\n",
       "                \n",
       "            </td>\n",
       "            <td style=\"padding: 0 0.5em 0 0.5em; text-align: left; border: none;\">\n",
       "                Этажей в доме\n",
       "            </td>\n",
       "        </tr>\n",
       "    \n",
       "        <tr style=\"background-color: hsl(120, 100.00%, 94.27%); border: none;\">\n",
       "            <td style=\"padding: 0 1em 0 0.5em; text-align: right; border: none;\">\n",
       "                0.0442\n",
       "                \n",
       "            </td>\n",
       "            <td style=\"padding: 0 0.5em 0 0.5em; text-align: left; border: none;\">\n",
       "                Доля куханной площади\n",
       "            </td>\n",
       "        </tr>\n",
       "    \n",
       "        <tr style=\"background-color: hsl(120, 100.00%, 94.63%); border: none;\">\n",
       "            <td style=\"padding: 0 1em 0 0.5em; text-align: right; border: none;\">\n",
       "                0.0404\n",
       "                \n",
       "            </td>\n",
       "            <td style=\"padding: 0 0.5em 0 0.5em; text-align: left; border: none;\">\n",
       "                Этаж\n",
       "            </td>\n",
       "        </tr>\n",
       "    \n",
       "        <tr style=\"background-color: hsl(120, 100.00%, 95.04%); border: none;\">\n",
       "            <td style=\"padding: 0 1em 0 0.5em; text-align: right; border: none;\">\n",
       "                0.0360\n",
       "                \n",
       "            </td>\n",
       "            <td style=\"padding: 0 0.5em 0 0.5em; text-align: left; border: none;\">\n",
       "                Доля жилой площади\n",
       "            </td>\n",
       "        </tr>\n",
       "    \n",
       "        <tr style=\"background-color: hsl(120, 100.00%, 95.23%); border: none;\">\n",
       "            <td style=\"padding: 0 1em 0 0.5em; text-align: right; border: none;\">\n",
       "                0.0340\n",
       "                \n",
       "            </td>\n",
       "            <td style=\"padding: 0 0.5em 0 0.5em; text-align: left; border: none;\">\n",
       "                Расстояние до метро (ед)\n",
       "            </td>\n",
       "        </tr>\n",
       "    \n",
       "        <tr style=\"background-color: hsl(120, 100.00%, 95.80%); border: none;\">\n",
       "            <td style=\"padding: 0 1em 0 0.5em; text-align: right; border: none;\">\n",
       "                0.0284\n",
       "                \n",
       "            </td>\n",
       "            <td style=\"padding: 0 0.5em 0 0.5em; text-align: left; border: none;\">\n",
       "                Кол-во комнат\n",
       "            </td>\n",
       "        </tr>\n",
       "    \n",
       "        <tr style=\"background-color: hsl(120, 100.00%, 96.36%); border: none;\">\n",
       "            <td style=\"padding: 0 1em 0 0.5em; text-align: right; border: none;\">\n",
       "                0.0231\n",
       "                \n",
       "            </td>\n",
       "            <td style=\"padding: 0 0.5em 0 0.5em; text-align: left; border: none;\">\n",
       "                Тип дома\n",
       "            </td>\n",
       "        </tr>\n",
       "    \n",
       "        <tr style=\"background-color: hsl(120, 100.00%, 96.40%); border: none;\">\n",
       "            <td style=\"padding: 0 1em 0 0.5em; text-align: right; border: none;\">\n",
       "                0.0227\n",
       "                \n",
       "            </td>\n",
       "            <td style=\"padding: 0 0.5em 0 0.5em; text-align: left; border: none;\">\n",
       "                Ремонт\n",
       "            </td>\n",
       "        </tr>\n",
       "    \n",
       "        <tr style=\"background-color: hsl(120, 100.00%, 97.19%); border: none;\">\n",
       "            <td style=\"padding: 0 1em 0 0.5em; text-align: right; border: none;\">\n",
       "                0.0160\n",
       "                \n",
       "            </td>\n",
       "            <td style=\"padding: 0 0.5em 0 0.5em; text-align: left; border: none;\">\n",
       "                Окна\n",
       "            </td>\n",
       "        </tr>\n",
       "    \n",
       "        <tr style=\"background-color: hsl(120, 100.00%, 97.46%); border: none;\">\n",
       "            <td style=\"padding: 0 1em 0 0.5em; text-align: right; border: none;\">\n",
       "                0.0138\n",
       "                \n",
       "            </td>\n",
       "            <td style=\"padding: 0 0.5em 0 0.5em; text-align: left; border: none;\">\n",
       "                Округ\n",
       "            </td>\n",
       "        </tr>\n",
       "    \n",
       "        <tr style=\"background-color: hsl(120, 100.00%, 98.58%); border: none;\">\n",
       "            <td style=\"padding: 0 1em 0 0.5em; text-align: right; border: none;\">\n",
       "                0.0060\n",
       "                \n",
       "            </td>\n",
       "            <td style=\"padding: 0 0.5em 0 0.5em; text-align: left; border: none;\">\n",
       "                Последний этаж\n",
       "            </td>\n",
       "        </tr>\n",
       "    \n",
       "        <tr style=\"background-color: hsl(120, 100.00%, 98.74%); border: none;\">\n",
       "            <td style=\"padding: 0 1em 0 0.5em; text-align: right; border: none;\">\n",
       "                0.0051\n",
       "                \n",
       "            </td>\n",
       "            <td style=\"padding: 0 0.5em 0 0.5em; text-align: left; border: none;\">\n",
       "                Наличие ремонта\n",
       "            </td>\n",
       "        </tr>\n",
       "    \n",
       "        <tr style=\"background-color: hsl(120, 100.00%, 98.77%); border: none;\">\n",
       "            <td style=\"padding: 0 1em 0 0.5em; text-align: right; border: none;\">\n",
       "                0.0049\n",
       "                \n",
       "            </td>\n",
       "            <td style=\"padding: 0 0.5em 0 0.5em; text-align: left; border: none;\">\n",
       "                Расстояние указано на транспорте\n",
       "            </td>\n",
       "        </tr>\n",
       "    \n",
       "        <tr style=\"background-color: hsl(120, 100.00%, 99.07%); border: none;\">\n",
       "            <td style=\"padding: 0 1em 0 0.5em; text-align: right; border: none;\">\n",
       "                0.0033\n",
       "                \n",
       "            </td>\n",
       "            <td style=\"padding: 0 0.5em 0 0.5em; text-align: left; border: none;\">\n",
       "                Балкон указан\n",
       "            </td>\n",
       "        </tr>\n",
       "    \n",
       "        <tr style=\"background-color: hsl(120, 100.00%, 99.26%); border: none;\">\n",
       "            <td style=\"padding: 0 1em 0 0.5em; text-align: right; border: none;\">\n",
       "                0.0024\n",
       "                \n",
       "            </td>\n",
       "            <td style=\"padding: 0 0.5em 0 0.5em; text-align: left; border: none;\">\n",
       "                Указан раздельный санузел\n",
       "            </td>\n",
       "        </tr>\n",
       "    \n",
       "        <tr style=\"background-color: hsl(120, 100.00%, 99.52%); border: none;\">\n",
       "            <td style=\"padding: 0 1em 0 0.5em; text-align: right; border: none;\">\n",
       "                0.0013\n",
       "                \n",
       "            </td>\n",
       "            <td style=\"padding: 0 0.5em 0 0.5em; text-align: left; border: none;\">\n",
       "                Несколько санузлов\n",
       "            </td>\n",
       "        </tr>\n",
       "    \n",
       "    \n",
       "        \n",
       "            <tr style=\"background-color: hsl(120, 100.00%, 99.52%); border: none;\">\n",
       "                <td colspan=\"2\" style=\"padding: 0 0.5em 0 0.5em; text-align: center; border: none; white-space: nowrap;\">\n",
       "                    <i>&hellip; 3 more &hellip;</i>\n",
       "                </td>\n",
       "            </tr>\n",
       "        \n",
       "    \n",
       "    </tbody>\n",
       "</table>\n",
       "    \n",
       "\n",
       "    \n",
       "\n",
       "\n",
       "    \n",
       "\n",
       "    \n",
       "\n",
       "    \n",
       "\n",
       "    \n",
       "\n",
       "    \n",
       "\n",
       "    \n",
       "\n",
       "\n",
       "\n"
      ],
      "text/plain": [
       "Explanation(estimator=\"LGBMRegressor(boosting_type='gbdt', class_weight=None, colsample_bytree=1.0,\\n              importance_type='split', learning_rate=0.1, max_depth=7,\\n              min_child_samples=20, min_child_weight=0.001, min_split_gain=0.0,\\n              n_estimators=500, n_jobs=-1, num_leaves=12, objective=None,\\n              random_state=42, reg_alpha=5, reg_beta=2, reg_lambda=0.0,\\n              silent=True, subsample=1.0, subsample_for_bin=200000,\\n              subsample_freq=0)\", description='\\nLightGBM feature importances; values are numbers 0 <= x <= 1;\\nall values sum to 1.\\n', error=None, method='feature importances', is_regression=True, targets=None, feature_importances=FeatureImportances(importances=[FeatureWeight(feature='Метро', weight=0.26381818181818184, std=None, value=None), FeatureWeight(feature='Район', weight=0.22927272727272727, std=None, value=None), FeatureWeight(feature='Площадь лог', weight=0.08890909090909091, std=None, value=None), FeatureWeight(feature='Возраст дома', weight=0.08309090909090909, std=None, value=None), FeatureWeight(feature='Этажей в доме', weight=0.05272727272727273, std=None, value=None), FeatureWeight(feature='Доля куханной площади', weight=0.04418181818181818, std=None, value=None), FeatureWeight(feature='Этаж', weight=0.040363636363636365, std=None, value=None), FeatureWeight(feature='Доля жилой площади', weight=0.036, std=None, value=None), FeatureWeight(feature='Расстояние до метро (ед)', weight=0.034, std=None, value=None), FeatureWeight(feature='Кол-во комнат', weight=0.028363636363636365, std=None, value=None), FeatureWeight(feature='Тип дома', weight=0.023090909090909092, std=None, value=None), FeatureWeight(feature='Ремонт', weight=0.022727272727272728, std=None, value=None), FeatureWeight(feature='Окна', weight=0.016, std=None, value=None), FeatureWeight(feature='Округ', weight=0.013818181818181818, std=None, value=None), FeatureWeight(feature='Последний этаж', weight=0.006, std=None, value=None), FeatureWeight(feature='Наличие ремонта', weight=0.005090909090909091, std=None, value=None), FeatureWeight(feature='Расстояние указано на транспорте', weight=0.004909090909090909, std=None, value=None), FeatureWeight(feature='Балкон указан', weight=0.0032727272727272726, std=None, value=None), FeatureWeight(feature='Указан раздельный санузел', weight=0.0023636363636363638, std=None, value=None), FeatureWeight(feature='Несколько санузлов', weight=0.0012727272727272728, std=None, value=None)], remaining=3), decision_tree=None, highlight_spaces=None, transition_features=None, image=None)"
      ]
     },
     "execution_count": 13,
     "metadata": {},
     "output_type": "execute_result"
    }
   ],
   "source": [
    "eli5.explain_weights_lightgbm(regressor, vec=None, top=20, \n",
    "                         target_names=None, \n",
    "                         targets=None, \n",
    "                         feature_names=df.columns[~df.columns.isin(cols_not_to_use)].values, \n",
    "                         feature_re=None, \n",
    "                         feature_filter=None, \n",
    "                         importance_type='split')"
   ]
  },
  {
   "cell_type": "code",
   "execution_count": 14,
   "metadata": {},
   "outputs": [
    {
     "data": {
      "image/png": "[encoded data removed]",
      "text/plain": [
       "<Figure size 576x360 with 1 Axes>"
      ]
     },
     "metadata": {
      "needs_background": "light"
     },
     "output_type": "display_data"
    }
   ],
   "source": [
    "lgbm.plot_importance(regressor, figsize=(8, 5))\n",
    "plt.tight_layout();"
   ]
  },
  {
   "cell_type": "markdown",
   "metadata": {},
   "source": [
    "**Вывод:** значения метрик высоки, но \n",
    "1. доминирующий вклад вносят от 1-2 до 2-6 признаков\n",
    "2. метрика качества при такой валидации означает лишь то, насколько хорошо алгоритм смог выучить имеющиеся данные и их закономерности (при определенной трактовке задачи этого может быть достаточно, но на всякий случай проведем валидацию на отложенной выборке, а заодно и более регуляризуем наш алгоритм)"
   ]
  },
  {
   "cell_type": "markdown",
   "metadata": {},
   "source": [
    "### Посмотрим на более регуляризованную модель, на половине выборки и с разбиением по количеству комнат\n",
    "> * То есть, мы моделируем ситуацию, когда у нас было ~7000 лотов, а потом пришло еще 7000 тысяч, с примерным сохранением количества комнат*, и мы хотим узнать, насколько хорошо наша модель может объяснить цену на них.  \n",
    "* Проблемой такого подхода может быть недостаточное количество наблюдений по категориям чтобы построить хорошую модель на них\n",
    "\n",
    "\n",
    "\\* Да, мы знаем, что как минимум раз за 10 лет это распределение сдвигается, на основе статьи (Магнус, Пересецкий), но за 10 лет могут происходить куда более серьезные с точки зрения нашей модели изменения, чем лишь изменение количества комнат в лотах. Например, рост цен в несколько раз относительно цен на которых мы моделировали значимости."
   ]
  },
  {
   "cell_type": "code",
   "execution_count": 15,
   "metadata": {},
   "outputs": [],
   "source": [
    "train_x, valid_x, train_y, valid_y = sklearn.model_selection.train_test_split(df.iloc[:, ~df.columns.isin(cols_not_to_use)], \n",
    "                                                                              np.log(target[target_col]), \n",
    "                                                                              test_size = 0.5, \n",
    "                                                                              shuffle = True, \n",
    "                                                                              stratify = df['Кол-во комнат'], \n",
    "                                                                              random_state = 891)\n",
    "train_data = lgbm.Dataset(train_x, label=train_y)\n",
    "valid_data = lgbm.Dataset(valid_x, label=valid_y)"
   ]
  },
  {
   "cell_type": "code",
   "execution_count": 16,
   "metadata": {},
   "outputs": [],
   "source": [
    "params = {'metric' : 'mse',\n",
    "          'boosting_type' : 'gbdt',\n",
    "          'colsample_bytree' : 0.9234,\n",
    "          'num_leaves' : 12,\n",
    "          'max_depth' : 7,\n",
    "          'n_estimators' : 500,\n",
    "          'min_child_samples': 399, \n",
    "          'min_child_weight': 0.1,\n",
    "          'reg_alpha': 2,\n",
    "          'reg_lambda': 5,\n",
    "          'subsample': 0.855,\n",
    "          'verbose' : 100,\n",
    "          'learning_rate' : 0.1,\n",
    "          'num_threads' : 2}"
   ]
  },
  {
   "cell_type": "code",
   "execution_count": 17,
   "metadata": {},
   "outputs": [
    {
     "name": "stderr",
     "output_type": "stream",
     "text": [
      "D:\\Anaconda\\lib\\site-packages\\lightgbm\\engine.py:116: UserWarning: Found `n_estimators` in params. Will use it instead of argument\n",
      "  warnings.warn(\"Found `{}` in params. Will use it instead of argument\".format(alias))\n",
      "D:\\Anaconda\\lib\\site-packages\\lightgbm\\basic.py:752: UserWarning: categorical_feature in param dict is overridden.\n",
      "  warnings.warn('categorical_feature in param dict is overridden.')\n"
     ]
    },
    {
     "name": "stdout",
     "output_type": "stream",
     "text": [
      "Training until validation scores don't improve for 120 rounds.\n",
      "[500]\tvalid_0's l2: 0.0310352\n",
      "Did not meet early stopping. Best iteration is:\n",
      "[500]\tvalid_0's l2: 0.0310352\n"
     ]
    }
   ],
   "source": [
    "#Train model on selected parameters and number of iterations\n",
    "regressor_2 = lgbm.train(params,\n",
    "                 train_data,\n",
    "                 2500,\n",
    "                 valid_sets = valid_data,\n",
    "                 early_stopping_rounds = 120,\n",
    "                 verbose_eval = 500\n",
    "                 )\n",
    "regressor_2.booster_ = regressor_2"
   ]
  },
  {
   "cell_type": "markdown",
   "metadata": {},
   "source": [
    "Посмотрим на метрики качества (насколько хорошо наш, но чуть более строгий алгоритм, мог бы объяснить 'новые' данные с такой же природой)"
   ]
  },
  {
   "cell_type": "code",
   "execution_count": 18,
   "metadata": {},
   "outputs": [
    {
     "name": "stderr",
     "output_type": "stream",
     "text": [
      "INFO:root:R2 = 0.83; MAE = 0.12; MSE = 0.03\n"
     ]
    },
    {
     "data": {
      "text/plain": [
       "(0.8258092739192744, 0.11819142616161729, 0.03103521729349717)"
      ]
     },
     "execution_count": 18,
     "metadata": {},
     "output_type": "execute_result"
    },
    {
     "data": {
      "image/png": "[encoded data removed]",
      "text/plain": [
       "<Figure size 432x288 with 1 Axes>"
      ]
     },
     "metadata": {
      "needs_background": "light"
     },
     "output_type": "display_data"
    }
   ],
   "source": [
    "metrics_report(regressor_2.predict(valid_x), valid_y)"
   ]
  },
  {
   "cell_type": "markdown",
   "metadata": {},
   "source": [
    "Относительные ошибки"
   ]
  },
  {
   "cell_type": "code",
   "execution_count": 19,
   "metadata": {},
   "outputs": [
    {
     "name": "stderr",
     "output_type": "stream",
     "text": [
      "INFO:numexpr.utils:NumExpr defaulting to 8 threads.\n"
     ]
    },
    {
     "data": {
      "text/plain": [
       "Кол-во комнат\n",
       "0    0.169682\n",
       "1    0.213519\n",
       "2    0.253620\n",
       "3    0.302682\n",
       "4    0.351130\n",
       "5    0.554663\n",
       "6    0.219066\n",
       "Name: Цена за метр^2, dtype: float64"
      ]
     },
     "execution_count": 19,
     "metadata": {},
     "output_type": "execute_result"
    }
   ],
   "source": [
    "z = np.exp(regressor_2.predict(valid_x)) - np.exp(valid_y)\n",
    "z = abs(z) / np.exp(valid_y)\n",
    "z = pd.DataFrame(z)\n",
    "z['Кол-во комнат'] = valid_x['Кол-во комнат']\n",
    "z['Площадь'] = valid_x['Площадь лог']\n",
    "\n",
    "z.groupby('Кол-во комнат')['Цена за метр^2'].quantile(0.9)"
   ]
  },
  {
   "cell_type": "code",
   "execution_count": 20,
   "metadata": {},
   "outputs": [
    {
     "data": {
      "text/html": [
       "\n",
       "    <style>\n",
       "    table.eli5-weights tr:hover {\n",
       "        filter: brightness(85%);\n",
       "    }\n",
       "</style>\n",
       "\n",
       "\n",
       "\n",
       "    \n",
       "\n",
       "    \n",
       "\n",
       "    \n",
       "\n",
       "    \n",
       "\n",
       "    \n",
       "\n",
       "    \n",
       "\n",
       "\n",
       "    \n",
       "\n",
       "    \n",
       "\n",
       "    \n",
       "\n",
       "    \n",
       "\n",
       "    \n",
       "\n",
       "    \n",
       "\n",
       "\n",
       "    \n",
       "\n",
       "    \n",
       "\n",
       "    \n",
       "\n",
       "    \n",
       "\n",
       "    \n",
       "        <table class=\"eli5-weights eli5-feature-importances\" style=\"border-collapse: collapse; border: none; margin-top: 0em; table-layout: auto;\">\n",
       "    <thead>\n",
       "    <tr style=\"border: none;\">\n",
       "        <th style=\"padding: 0 1em 0 0.5em; text-align: right; border: none;\">Weight</th>\n",
       "        <th style=\"padding: 0 0.5em 0 0.5em; text-align: left; border: none;\">Feature</th>\n",
       "    </tr>\n",
       "    </thead>\n",
       "    <tbody>\n",
       "    \n",
       "        <tr style=\"background-color: hsl(120, 100.00%, 80.00%); border: none;\">\n",
       "            <td style=\"padding: 0 1em 0 0.5em; text-align: right; border: none;\">\n",
       "                0.7068\n",
       "                \n",
       "            </td>\n",
       "            <td style=\"padding: 0 0.5em 0 0.5em; text-align: left; border: none;\">\n",
       "                Район\n",
       "            </td>\n",
       "        </tr>\n",
       "    \n",
       "        <tr style=\"background-color: hsl(120, 100.00%, 93.25%); border: none;\">\n",
       "            <td style=\"padding: 0 1em 0 0.5em; text-align: right; border: none;\">\n",
       "                0.1497\n",
       "                \n",
       "            </td>\n",
       "            <td style=\"padding: 0 0.5em 0 0.5em; text-align: left; border: none;\">\n",
       "                Метро\n",
       "            </td>\n",
       "        </tr>\n",
       "    \n",
       "        <tr style=\"background-color: hsl(120, 100.00%, 97.64%); border: none;\">\n",
       "            <td style=\"padding: 0 1em 0 0.5em; text-align: right; border: none;\">\n",
       "                0.0334\n",
       "                \n",
       "            </td>\n",
       "            <td style=\"padding: 0 0.5em 0 0.5em; text-align: left; border: none;\">\n",
       "                Возраст дома\n",
       "            </td>\n",
       "        </tr>\n",
       "    \n",
       "        <tr style=\"background-color: hsl(120, 100.00%, 98.16%); border: none;\">\n",
       "            <td style=\"padding: 0 1em 0 0.5em; text-align: right; border: none;\">\n",
       "                0.0234\n",
       "                \n",
       "            </td>\n",
       "            <td style=\"padding: 0 0.5em 0 0.5em; text-align: left; border: none;\">\n",
       "                Ремонт\n",
       "            </td>\n",
       "        </tr>\n",
       "    \n",
       "        <tr style=\"background-color: hsl(120, 100.00%, 98.22%); border: none;\">\n",
       "            <td style=\"padding: 0 1em 0 0.5em; text-align: right; border: none;\">\n",
       "                0.0224\n",
       "                \n",
       "            </td>\n",
       "            <td style=\"padding: 0 0.5em 0 0.5em; text-align: left; border: none;\">\n",
       "                Площадь лог\n",
       "            </td>\n",
       "        </tr>\n",
       "    \n",
       "        <tr style=\"background-color: hsl(120, 100.00%, 98.60%); border: none;\">\n",
       "            <td style=\"padding: 0 1em 0 0.5em; text-align: right; border: none;\">\n",
       "                0.0158\n",
       "                \n",
       "            </td>\n",
       "            <td style=\"padding: 0 0.5em 0 0.5em; text-align: left; border: none;\">\n",
       "                Доля куханной площади\n",
       "            </td>\n",
       "        </tr>\n",
       "    \n",
       "        <tr style=\"background-color: hsl(120, 100.00%, 98.71%); border: none;\">\n",
       "            <td style=\"padding: 0 1em 0 0.5em; text-align: right; border: none;\">\n",
       "                0.0141\n",
       "                \n",
       "            </td>\n",
       "            <td style=\"padding: 0 0.5em 0 0.5em; text-align: left; border: none;\">\n",
       "                Этажей в доме\n",
       "            </td>\n",
       "        </tr>\n",
       "    \n",
       "        <tr style=\"background-color: hsl(120, 100.00%, 99.04%); border: none;\">\n",
       "            <td style=\"padding: 0 1em 0 0.5em; text-align: right; border: none;\">\n",
       "                0.0092\n",
       "                \n",
       "            </td>\n",
       "            <td style=\"padding: 0 0.5em 0 0.5em; text-align: left; border: none;\">\n",
       "                Округ\n",
       "            </td>\n",
       "        </tr>\n",
       "    \n",
       "        <tr style=\"background-color: hsl(120, 100.00%, 99.28%); border: none;\">\n",
       "            <td style=\"padding: 0 1em 0 0.5em; text-align: right; border: none;\">\n",
       "                0.0061\n",
       "                \n",
       "            </td>\n",
       "            <td style=\"padding: 0 0.5em 0 0.5em; text-align: left; border: none;\">\n",
       "                Кол-во комнат\n",
       "            </td>\n",
       "        </tr>\n",
       "    \n",
       "        <tr style=\"background-color: hsl(120, 100.00%, 99.38%); border: none;\">\n",
       "            <td style=\"padding: 0 1em 0 0.5em; text-align: right; border: none;\">\n",
       "                0.0049\n",
       "                \n",
       "            </td>\n",
       "            <td style=\"padding: 0 0.5em 0 0.5em; text-align: left; border: none;\">\n",
       "                Этаж\n",
       "            </td>\n",
       "        </tr>\n",
       "    \n",
       "        <tr style=\"background-color: hsl(120, 100.00%, 99.41%); border: none;\">\n",
       "            <td style=\"padding: 0 1em 0 0.5em; text-align: right; border: none;\">\n",
       "                0.0046\n",
       "                \n",
       "            </td>\n",
       "            <td style=\"padding: 0 0.5em 0 0.5em; text-align: left; border: none;\">\n",
       "                Тип дома\n",
       "            </td>\n",
       "        </tr>\n",
       "    \n",
       "        <tr style=\"background-color: hsl(120, 100.00%, 99.57%); border: none;\">\n",
       "            <td style=\"padding: 0 1em 0 0.5em; text-align: right; border: none;\">\n",
       "                0.0029\n",
       "                \n",
       "            </td>\n",
       "            <td style=\"padding: 0 0.5em 0 0.5em; text-align: left; border: none;\">\n",
       "                Доля жилой площади\n",
       "            </td>\n",
       "        </tr>\n",
       "    \n",
       "        <tr style=\"background-color: hsl(120, 100.00%, 99.57%); border: none;\">\n",
       "            <td style=\"padding: 0 1em 0 0.5em; text-align: right; border: none;\">\n",
       "                0.0029\n",
       "                \n",
       "            </td>\n",
       "            <td style=\"padding: 0 0.5em 0 0.5em; text-align: left; border: none;\">\n",
       "                Расстояние до метро (ед)\n",
       "            </td>\n",
       "        </tr>\n",
       "    \n",
       "        <tr style=\"background-color: hsl(120, 100.00%, 99.81%); border: none;\">\n",
       "            <td style=\"padding: 0 1em 0 0.5em; text-align: right; border: none;\">\n",
       "                0.0009\n",
       "                \n",
       "            </td>\n",
       "            <td style=\"padding: 0 0.5em 0 0.5em; text-align: left; border: none;\">\n",
       "                Окна\n",
       "            </td>\n",
       "        </tr>\n",
       "    \n",
       "        <tr style=\"background-color: hsl(120, 100.00%, 99.82%); border: none;\">\n",
       "            <td style=\"padding: 0 1em 0 0.5em; text-align: right; border: none;\">\n",
       "                0.0008\n",
       "                \n",
       "            </td>\n",
       "            <td style=\"padding: 0 0.5em 0 0.5em; text-align: left; border: none;\">\n",
       "                Наличие ремонта\n",
       "            </td>\n",
       "        </tr>\n",
       "    \n",
       "        <tr style=\"background-color: hsl(120, 100.00%, 99.84%); border: none;\">\n",
       "            <td style=\"padding: 0 1em 0 0.5em; text-align: right; border: none;\">\n",
       "                0.0007\n",
       "                \n",
       "            </td>\n",
       "            <td style=\"padding: 0 0.5em 0 0.5em; text-align: left; border: none;\">\n",
       "                Указан раздельный санузел\n",
       "            </td>\n",
       "        </tr>\n",
       "    \n",
       "        <tr style=\"background-color: hsl(120, 100.00%, 99.91%); border: none;\">\n",
       "            <td style=\"padding: 0 1em 0 0.5em; text-align: right; border: none;\">\n",
       "                0.0003\n",
       "                \n",
       "            </td>\n",
       "            <td style=\"padding: 0 0.5em 0 0.5em; text-align: left; border: none;\">\n",
       "                Расстояние указано на транспорте\n",
       "            </td>\n",
       "        </tr>\n",
       "    \n",
       "        <tr style=\"background-color: hsl(120, 100.00%, 99.91%); border: none;\">\n",
       "            <td style=\"padding: 0 1em 0 0.5em; text-align: right; border: none;\">\n",
       "                0.0003\n",
       "                \n",
       "            </td>\n",
       "            <td style=\"padding: 0 0.5em 0 0.5em; text-align: left; border: none;\">\n",
       "                Несколько санузлов\n",
       "            </td>\n",
       "        </tr>\n",
       "    \n",
       "        <tr style=\"background-color: hsl(120, 100.00%, 99.92%); border: none;\">\n",
       "            <td style=\"padding: 0 1em 0 0.5em; text-align: right; border: none;\">\n",
       "                0.0003\n",
       "                \n",
       "            </td>\n",
       "            <td style=\"padding: 0 0.5em 0 0.5em; text-align: left; border: none;\">\n",
       "                Расстояние указано пешком\n",
       "            </td>\n",
       "        </tr>\n",
       "    \n",
       "        <tr style=\"background-color: hsl(120, 100.00%, 99.93%); border: none;\">\n",
       "            <td style=\"padding: 0 1em 0 0.5em; text-align: right; border: none;\">\n",
       "                0.0002\n",
       "                \n",
       "            </td>\n",
       "            <td style=\"padding: 0 0.5em 0 0.5em; text-align: left; border: none;\">\n",
       "                Балкон указан\n",
       "            </td>\n",
       "        </tr>\n",
       "    \n",
       "    \n",
       "        \n",
       "            <tr style=\"background-color: hsl(120, 100.00%, 99.93%); border: none;\">\n",
       "                <td colspan=\"2\" style=\"padding: 0 0.5em 0 0.5em; text-align: center; border: none; white-space: nowrap;\">\n",
       "                    <i>&hellip; 3 more &hellip;</i>\n",
       "                </td>\n",
       "            </tr>\n",
       "        \n",
       "    \n",
       "    </tbody>\n",
       "</table>\n",
       "    \n",
       "\n",
       "    \n",
       "\n",
       "\n",
       "    \n",
       "\n",
       "    \n",
       "\n",
       "    \n",
       "\n",
       "    \n",
       "\n",
       "    \n",
       "\n",
       "    \n",
       "\n",
       "\n",
       "\n"
      ],
      "text/plain": [
       "Explanation(estimator='<lightgbm.basic.Booster object at 0x000000E2501E2828>', description='\\nLightGBM feature importances; values are numbers 0 <= x <= 1;\\nall values sum to 1.\\n', error=None, method='feature importances', is_regression=False, targets=None, feature_importances=FeatureImportances(importances=[FeatureWeight(feature='Район', weight=0.706798344118042, std=None, value=None), FeatureWeight(feature='Метро', weight=0.1496914214001333, std=None, value=None), FeatureWeight(feature='Возраст дома', weight=0.03341228898624891, std=None, value=None), FeatureWeight(feature='Ремонт', weight=0.02340877948699862, std=None, value=None), FeatureWeight(feature='Площадь лог', weight=0.022374893230611124, std=None, value=None), FeatureWeight(feature='Доля куханной площади', weight=0.01576891517064151, std=None, value=None), FeatureWeight(feature='Этажей в доме', weight=0.01405110211848039, std=None, value=None), FeatureWeight(feature='Округ', weight=0.009211824410985068, std=None, value=None), FeatureWeight(feature='Кол-во комнат', weight=0.006136903658644328, std=None, value=None), FeatureWeight(feature='Этаж', weight=0.004891516779538521, std=None, value=None), FeatureWeight(feature='Тип дома', weight=0.004562227752504613, std=None, value=None), FeatureWeight(feature='Доля жилой площади', weight=0.0029081415278743037, std=None, value=None), FeatureWeight(feature='Расстояние до метро (ед)', weight=0.0028922011347809, std=None, value=None), FeatureWeight(feature='Окна', weight=0.0008856915310362641, std=None, value=None), FeatureWeight(feature='Наличие ремонта', weight=0.0008249604003741511, std=None, value=None), FeatureWeight(feature='Указан раздельный санузел', weight=0.0006880199750561963, std=None, value=None), FeatureWeight(feature='Расстояние указано на транспорте', weight=0.00031892600702806707, std=None, value=None), FeatureWeight(feature='Несколько санузлов', weight=0.0003047808863781876, std=None, value=None), FeatureWeight(feature='Расстояние указано пешком', weight=0.00025751719248870967, std=None, value=None), FeatureWeight(feature='Балкон указан', weight=0.0002092498190612562, std=None, value=None)], remaining=3), decision_tree=None, highlight_spaces=None, transition_features=None, image=None)"
      ]
     },
     "execution_count": 20,
     "metadata": {},
     "output_type": "execute_result"
    }
   ],
   "source": [
    "eli5.explain_weights_lightgbm(regressor_2, vec=None, top=20, \n",
    "                         target_names=None, \n",
    "                         targets=None, \n",
    "                         feature_names=df.columns[~df.columns.isin(cols_not_to_use)].values, \n",
    "                         feature_re=None, \n",
    "                         feature_filter=None, \n",
    "                         importance_type='gain')"
   ]
  },
  {
   "cell_type": "code",
   "execution_count": 21,
   "metadata": {},
   "outputs": [
    {
     "data": {
      "text/html": [
       "\n",
       "    <style>\n",
       "    table.eli5-weights tr:hover {\n",
       "        filter: brightness(85%);\n",
       "    }\n",
       "</style>\n",
       "\n",
       "\n",
       "\n",
       "    \n",
       "\n",
       "    \n",
       "\n",
       "    \n",
       "\n",
       "    \n",
       "\n",
       "    \n",
       "\n",
       "    \n",
       "\n",
       "\n",
       "    \n",
       "\n",
       "    \n",
       "\n",
       "    \n",
       "\n",
       "    \n",
       "\n",
       "    \n",
       "\n",
       "    \n",
       "\n",
       "\n",
       "    \n",
       "\n",
       "    \n",
       "\n",
       "    \n",
       "\n",
       "    \n",
       "\n",
       "    \n",
       "        <table class=\"eli5-weights eli5-feature-importances\" style=\"border-collapse: collapse; border: none; margin-top: 0em; table-layout: auto;\">\n",
       "    <thead>\n",
       "    <tr style=\"border: none;\">\n",
       "        <th style=\"padding: 0 1em 0 0.5em; text-align: right; border: none;\">Weight</th>\n",
       "        <th style=\"padding: 0 0.5em 0 0.5em; text-align: left; border: none;\">Feature</th>\n",
       "    </tr>\n",
       "    </thead>\n",
       "    <tbody>\n",
       "    \n",
       "        <tr style=\"background-color: hsl(120, 100.00%, 80.00%); border: none;\">\n",
       "            <td style=\"padding: 0 1em 0 0.5em; text-align: right; border: none;\">\n",
       "                0.2871\n",
       "                \n",
       "            </td>\n",
       "            <td style=\"padding: 0 0.5em 0 0.5em; text-align: left; border: none;\">\n",
       "                Район\n",
       "            </td>\n",
       "        </tr>\n",
       "    \n",
       "        <tr style=\"background-color: hsl(120, 100.00%, 82.44%); border: none;\">\n",
       "            <td style=\"padding: 0 1em 0 0.5em; text-align: right; border: none;\">\n",
       "                0.2385\n",
       "                \n",
       "            </td>\n",
       "            <td style=\"padding: 0 0.5em 0 0.5em; text-align: left; border: none;\">\n",
       "                Метро\n",
       "            </td>\n",
       "        </tr>\n",
       "    \n",
       "        <tr style=\"background-color: hsl(120, 100.00%, 92.74%); border: none;\">\n",
       "            <td style=\"padding: 0 1em 0 0.5em; text-align: right; border: none;\">\n",
       "                0.0676\n",
       "                \n",
       "            </td>\n",
       "            <td style=\"padding: 0 0.5em 0 0.5em; text-align: left; border: none;\">\n",
       "                Возраст дома\n",
       "            </td>\n",
       "        </tr>\n",
       "    \n",
       "        <tr style=\"background-color: hsl(120, 100.00%, 93.17%); border: none;\">\n",
       "            <td style=\"padding: 0 1em 0 0.5em; text-align: right; border: none;\">\n",
       "                0.0619\n",
       "                \n",
       "            </td>\n",
       "            <td style=\"padding: 0 0.5em 0 0.5em; text-align: left; border: none;\">\n",
       "                Площадь лог\n",
       "            </td>\n",
       "        </tr>\n",
       "    \n",
       "        <tr style=\"background-color: hsl(120, 100.00%, 93.98%); border: none;\">\n",
       "            <td style=\"padding: 0 1em 0 0.5em; text-align: right; border: none;\">\n",
       "                0.0517\n",
       "                \n",
       "            </td>\n",
       "            <td style=\"padding: 0 0.5em 0 0.5em; text-align: left; border: none;\">\n",
       "                Доля куханной площади\n",
       "            </td>\n",
       "        </tr>\n",
       "    \n",
       "        <tr style=\"background-color: hsl(120, 100.00%, 94.51%); border: none;\">\n",
       "            <td style=\"padding: 0 1em 0 0.5em; text-align: right; border: none;\">\n",
       "                0.0452\n",
       "                \n",
       "            </td>\n",
       "            <td style=\"padding: 0 0.5em 0 0.5em; text-align: left; border: none;\">\n",
       "                Этажей в доме\n",
       "            </td>\n",
       "        </tr>\n",
       "    \n",
       "        <tr style=\"background-color: hsl(120, 100.00%, 94.97%); border: none;\">\n",
       "            <td style=\"padding: 0 1em 0 0.5em; text-align: right; border: none;\">\n",
       "                0.0399\n",
       "                \n",
       "            </td>\n",
       "            <td style=\"padding: 0 0.5em 0 0.5em; text-align: left; border: none;\">\n",
       "                Доля жилой площади\n",
       "            </td>\n",
       "        </tr>\n",
       "    \n",
       "        <tr style=\"background-color: hsl(120, 100.00%, 94.99%); border: none;\">\n",
       "            <td style=\"padding: 0 1em 0 0.5em; text-align: right; border: none;\">\n",
       "                0.0397\n",
       "                \n",
       "            </td>\n",
       "            <td style=\"padding: 0 0.5em 0 0.5em; text-align: left; border: none;\">\n",
       "                Округ\n",
       "            </td>\n",
       "        </tr>\n",
       "    \n",
       "        <tr style=\"background-color: hsl(120, 100.00%, 95.33%); border: none;\">\n",
       "            <td style=\"padding: 0 1em 0 0.5em; text-align: right; border: none;\">\n",
       "                0.0360\n",
       "                \n",
       "            </td>\n",
       "            <td style=\"padding: 0 0.5em 0 0.5em; text-align: left; border: none;\">\n",
       "                Ремонт\n",
       "            </td>\n",
       "        </tr>\n",
       "    \n",
       "        <tr style=\"background-color: hsl(120, 100.00%, 95.91%); border: none;\">\n",
       "            <td style=\"padding: 0 1em 0 0.5em; text-align: right; border: none;\">\n",
       "                0.0297\n",
       "                \n",
       "            </td>\n",
       "            <td style=\"padding: 0 0.5em 0 0.5em; text-align: left; border: none;\">\n",
       "                Кол-во комнат\n",
       "            </td>\n",
       "        </tr>\n",
       "    \n",
       "        <tr style=\"background-color: hsl(120, 100.00%, 96.21%); border: none;\">\n",
       "            <td style=\"padding: 0 1em 0 0.5em; text-align: right; border: none;\">\n",
       "                0.0267\n",
       "                \n",
       "            </td>\n",
       "            <td style=\"padding: 0 0.5em 0 0.5em; text-align: left; border: none;\">\n",
       "                Расстояние до метро (ед)\n",
       "            </td>\n",
       "        </tr>\n",
       "    \n",
       "        <tr style=\"background-color: hsl(120, 100.00%, 96.23%); border: none;\">\n",
       "            <td style=\"padding: 0 1em 0 0.5em; text-align: right; border: none;\">\n",
       "                0.0265\n",
       "                \n",
       "            </td>\n",
       "            <td style=\"padding: 0 0.5em 0 0.5em; text-align: left; border: none;\">\n",
       "                Этаж\n",
       "            </td>\n",
       "        </tr>\n",
       "    \n",
       "        <tr style=\"background-color: hsl(120, 100.00%, 96.79%); border: none;\">\n",
       "            <td style=\"padding: 0 1em 0 0.5em; text-align: right; border: none;\">\n",
       "                0.0210\n",
       "                \n",
       "            </td>\n",
       "            <td style=\"padding: 0 0.5em 0 0.5em; text-align: left; border: none;\">\n",
       "                Тип дома\n",
       "            </td>\n",
       "        </tr>\n",
       "    \n",
       "        <tr style=\"background-color: hsl(120, 100.00%, 98.27%); border: none;\">\n",
       "            <td style=\"padding: 0 1em 0 0.5em; text-align: right; border: none;\">\n",
       "                0.0087\n",
       "                \n",
       "            </td>\n",
       "            <td style=\"padding: 0 0.5em 0 0.5em; text-align: left; border: none;\">\n",
       "                Окна\n",
       "            </td>\n",
       "        </tr>\n",
       "    \n",
       "        <tr style=\"background-color: hsl(120, 100.00%, 99.03%); border: none;\">\n",
       "            <td style=\"padding: 0 1em 0 0.5em; text-align: right; border: none;\">\n",
       "                0.0038\n",
       "                \n",
       "            </td>\n",
       "            <td style=\"padding: 0 0.5em 0 0.5em; text-align: left; border: none;\">\n",
       "                Расстояние указано на транспорте\n",
       "            </td>\n",
       "        </tr>\n",
       "    \n",
       "        <tr style=\"background-color: hsl(120, 100.00%, 99.03%); border: none;\">\n",
       "            <td style=\"padding: 0 1em 0 0.5em; text-align: right; border: none;\">\n",
       "                0.0038\n",
       "                \n",
       "            </td>\n",
       "            <td style=\"padding: 0 0.5em 0 0.5em; text-align: left; border: none;\">\n",
       "                Последний этаж\n",
       "            </td>\n",
       "        </tr>\n",
       "    \n",
       "        <tr style=\"background-color: hsl(120, 100.00%, 99.21%); border: none;\">\n",
       "            <td style=\"padding: 0 1em 0 0.5em; text-align: right; border: none;\">\n",
       "                0.0028\n",
       "                \n",
       "            </td>\n",
       "            <td style=\"padding: 0 0.5em 0 0.5em; text-align: left; border: none;\">\n",
       "                Наличие ремонта\n",
       "            </td>\n",
       "        </tr>\n",
       "    \n",
       "        <tr style=\"background-color: hsl(120, 100.00%, 99.21%); border: none;\">\n",
       "            <td style=\"padding: 0 1em 0 0.5em; text-align: right; border: none;\">\n",
       "                0.0028\n",
       "                \n",
       "            </td>\n",
       "            <td style=\"padding: 0 0.5em 0 0.5em; text-align: left; border: none;\">\n",
       "                Балкон указан\n",
       "            </td>\n",
       "        </tr>\n",
       "    \n",
       "        <tr style=\"background-color: hsl(120, 100.00%, 99.32%); border: none;\">\n",
       "            <td style=\"padding: 0 1em 0 0.5em; text-align: right; border: none;\">\n",
       "                0.0023\n",
       "                \n",
       "            </td>\n",
       "            <td style=\"padding: 0 0.5em 0 0.5em; text-align: left; border: none;\">\n",
       "                Несколько санузлов\n",
       "            </td>\n",
       "        </tr>\n",
       "    \n",
       "        <tr style=\"background-color: hsl(120, 100.00%, 99.54%); border: none;\">\n",
       "            <td style=\"padding: 0 1em 0 0.5em; text-align: right; border: none;\">\n",
       "                0.0013\n",
       "                \n",
       "            </td>\n",
       "            <td style=\"padding: 0 0.5em 0 0.5em; text-align: left; border: none;\">\n",
       "                Указан раздельный санузел\n",
       "            </td>\n",
       "        </tr>\n",
       "    \n",
       "    \n",
       "        \n",
       "            <tr style=\"background-color: hsl(120, 100.00%, 99.54%); border: none;\">\n",
       "                <td colspan=\"2\" style=\"padding: 0 0.5em 0 0.5em; text-align: center; border: none; white-space: nowrap;\">\n",
       "                    <i>&hellip; 3 more &hellip;</i>\n",
       "                </td>\n",
       "            </tr>\n",
       "        \n",
       "    \n",
       "    </tbody>\n",
       "</table>\n",
       "    \n",
       "\n",
       "    \n",
       "\n",
       "\n",
       "    \n",
       "\n",
       "    \n",
       "\n",
       "    \n",
       "\n",
       "    \n",
       "\n",
       "    \n",
       "\n",
       "    \n",
       "\n",
       "\n",
       "\n"
      ],
      "text/plain": [
       "Explanation(estimator='<lightgbm.basic.Booster object at 0x000000E2501E2828>', description='\\nLightGBM feature importances; values are numbers 0 <= x <= 1;\\nall values sum to 1.\\n', error=None, method='feature importances', is_regression=False, targets=None, feature_importances=FeatureImportances(importances=[FeatureWeight(feature='Район', weight=0.28709311127933385, std=None, value=None), FeatureWeight(feature='Метро', weight=0.2384557153671461, std=None, value=None), FeatureWeight(feature='Возраст дома', weight=0.06756245268735807, std=None, value=None), FeatureWeight(feature='Площадь лог', weight=0.06188493565480697, std=None, value=None), FeatureWeight(feature='Доля куханной площади', weight=0.05166540499621499, std=None, value=None), FeatureWeight(feature='Этажей в доме', weight=0.045230885692657076, std=None, value=None), FeatureWeight(feature='Доля жилой площади', weight=0.039931869795609386, std=None, value=None), FeatureWeight(feature='Округ', weight=0.039742619227857684, std=None, value=None), FeatureWeight(feature='Ремонт', weight=0.03595760787282362, std=None, value=None), FeatureWeight(feature='Кол-во комнат', weight=0.029712339137017412, std=None, value=None), FeatureWeight(feature='Расстояние до метро (ед)', weight=0.02668433005299016, std=None, value=None), FeatureWeight(feature='Этаж', weight=0.026495079485238455, std=None, value=None), FeatureWeight(feature='Тип дома', weight=0.021006813020439063, std=None, value=None), FeatureWeight(feature='Окна', weight=0.00870552611657835, std=None, value=None), FeatureWeight(feature='Расстояние указано на транспорте', weight=0.003785011355034065, std=None, value=None), FeatureWeight(feature='Последний этаж', weight=0.003785011355034065, std=None, value=None), FeatureWeight(feature='Наличие ремонта', weight=0.002838758516275549, std=None, value=None), FeatureWeight(feature='Балкон указан', weight=0.002838758516275549, std=None, value=None), FeatureWeight(feature='Несколько санузлов', weight=0.002271006813020439, std=None, value=None), FeatureWeight(feature='Указан раздельный санузел', weight=0.0013247539742619228, std=None, value=None)], remaining=3), decision_tree=None, highlight_spaces=None, transition_features=None, image=None)"
      ]
     },
     "execution_count": 21,
     "metadata": {},
     "output_type": "execute_result"
    }
   ],
   "source": [
    "eli5.explain_weights_lightgbm(regressor_2, vec=None, top=20, \n",
    "                         target_names=None, \n",
    "                         targets=None, \n",
    "                         feature_names=df.columns[~df.columns.isin(cols_not_to_use)].values, \n",
    "                         feature_re=None, \n",
    "                         feature_filter=None, \n",
    "                         importance_type='split')"
   ]
  },
  {
   "cell_type": "code",
   "execution_count": 22,
   "metadata": {},
   "outputs": [
    {
     "data": {
      "image/png": "[encoded data removed]",
      "text/plain": [
       "<Figure size 576x360 with 1 Axes>"
      ]
     },
     "metadata": {
      "needs_background": "light"
     },
     "output_type": "display_data"
    }
   ],
   "source": [
    "lgbm.plot_importance(regressor_2, importance_type='split', figsize=(8, 5))\n",
    "plt.tight_layout()"
   ]
  },
  {
   "cell_type": "markdown",
   "metadata": {},
   "source": [
    "**Вывод:** значения метрик ожидаемо стали хуже (например, R^2 упал, значение метрики относительной ошибки прогноза выросло), но \n",
    "1. модель теперь более регуляризована по признакам и искусственно недостигает точки остановы по критерию отсутствия изменения метрики качества (для этого нужно добавить деревьев, но увеличить риск уменьшения обобщающей спобосности)\n",
    "2. мы не контроллировали разбиения по другим категориальным признакам, только по числу комнат, это может быть и вероятно есть критично для данных этой структуры (высокое количество районов, высокое количество пропусков в некоторых полях) \n",
    "3. самые значимые признаки всё равно остаются неизменными."
   ]
  },
  {
   "cell_type": "markdown",
   "metadata": {},
   "source": [
    "### Рассмотрим связи признаков после моделирования"
   ]
  },
  {
   "cell_type": "markdown",
   "metadata": {},
   "source": [
    "> Посмотрим на связь признаков\n",
    "* Корреляции Пирсона для количественным и Спирмана для качественных"
   ]
  },
  {
   "cell_type": "markdown",
   "metadata": {},
   "source": [
    "* *Логорифм от площади взят, чтобы сгладить выбросы цены на графике и не удалять их*"
   ]
  },
  {
   "cell_type": "code",
   "execution_count": 23,
   "metadata": {},
   "outputs": [
    {
     "data": {
      "image/png": "[encoded data removed]",
      "text/plain": [
       "<Figure size 864x360 with 2 Axes>"
      ]
     },
     "metadata": {
      "needs_background": "light"
     },
     "output_type": "display_data"
    }
   ],
   "source": [
    "fig, ax = plt.subplots(1, 2, figsize=(12, 5))\n",
    "plt.suptitle('Зависимости цены и цены за метр^2 (лог) от площади (лог)')\n",
    "ax[0].scatter(x=np.log(target['Цена'].values), y=np.log(df['Площадь'].values), alpha=0.4)\n",
    "ax[1].scatter(x=np.log(target['Цена за метр^2'].values), y=np.log(df['Площадь'].values), alpha=0.4)\n",
    "\n",
    "ax[0].set_ylabel('Площадь (лог)')\n",
    "ax[0].set_xlabel('Цена (лог)')\n",
    "ax[1].set_xlabel('Цена за метр^2 (лог)')\n",
    "\n",
    "\n",
    "plt.savefig(PATH_TO_IMAGES + 'Цена на метр^2 от площади')"
   ]
  },
  {
   "cell_type": "code",
   "execution_count": 24,
   "metadata": {},
   "outputs": [
    {
     "data": {
      "image/png": "[encoded data removed]",
      "text/plain": [
       "<Figure size 864x360 with 1 Axes>"
      ]
     },
     "metadata": {
      "needs_background": "light"
     },
     "output_type": "display_data"
    }
   ],
   "source": [
    "fig, ax = plt.subplots(1, 1, figsize=(12, 5))\n",
    "plt.suptitle('Зависимости цены и цены за метр^2 (лог) от числа комнат')\n",
    "ax.scatter(x=np.log(target['Цена'].values), y=df['Кол-во комнат'].values, alpha=0.25, label='абсолютная')\n",
    "ax.scatter(x=np.log(target['Цена за метр^2'].values), y=df['Кол-во комнат'].values, alpha=0.25, label='за м^2')\n",
    "#plt.scatter(x=np.log(target['Цена за метр^2'].values), y=df['Кол-во комнат'].values, alpha=0.4)\n",
    "ticks = [label_encoder_dict['Кол-во комнат'].inverse_transform([int(tick)])[0] for tick in plt.yticks()[0].tolist()[1:-1]]\n",
    "plt.yticks(plt.yticks()[0], [''] + ticks + ['']);\n",
    "\n",
    "ax.set_ylabel('Кол-во комнат')\n",
    "ax.set_xlabel('Цена (лог)');\n",
    "plt.legend()\n",
    "plt.tight_layout(rect=[0, 0.03, 1, 0.95])\n",
    "\n",
    "plt.savefig(PATH_TO_IMAGES + 'Цены и число комнат (точки)')"
   ]
  },
  {
   "cell_type": "code",
   "execution_count": 25,
   "metadata": {},
   "outputs": [
    {
     "data": {
      "image/png": "[encoded data removed]",
      "text/plain": [
       "<Figure size 864x360 with 1 Axes>"
      ]
     },
     "metadata": {
      "needs_background": "light"
     },
     "output_type": "display_data"
    }
   ],
   "source": [
    "fig, ax = plt.subplots(1, 1, figsize=(12, 5))\n",
    "plt.suptitle('Зависимости площади от числа комнат')\n",
    "ax.scatter(x=df['Площадь'].values, y=df['Кол-во комнат'].values, alpha=0.25)\n",
    "ticks = [label_encoder_dict['Кол-во комнат'].inverse_transform([int(tick)])[0] for tick in plt.yticks()[0].tolist()[1:-1]]\n",
    "plt.yticks(plt.yticks()[0], [''] + ticks + ['']);\n",
    "ax.set_ylabel('Кол-во комнат')\n",
    "ax.set_xlabel('Площадь');\n",
    "ax.set_xlim(0, 350)\n",
    "plt.tight_layout(rect=[0, 0.03, 1, 0.95])\n",
    "\n",
    "plt.savefig(PATH_TO_IMAGES + 'Площадь и число комнат (точки)')"
   ]
  },
  {
   "cell_type": "markdown",
   "metadata": {},
   "source": [
    "Интересные характеристики лотов\n",
    "* Наличие более одного санузла, сильнее связано с площадью, чем с количеством комнат. А площадь уже связано с количеством комнат.\n",
    "* Число этажей обратно пропорционально возрасту дома. Наверное, это ожидаемо, при учете медианного возраста дома в $20$ лет ($18$ без обработки пропусков), а медианного количества этажей в доме равного $16$"
   ]
  },
  {
   "cell_type": "code",
   "execution_count": 26,
   "metadata": {},
   "outputs": [
    {
     "data": {
      "text/plain": [
       "SpearmanrResult(correlation=0.2723271747586393, pvalue=4.587435724451326e-242)"
      ]
     },
     "execution_count": 26,
     "metadata": {},
     "output_type": "execute_result"
    }
   ],
   "source": [
    "scipy.stats.spearmanr(df['Кол-во комнат'].values, df['Несколько санузлов'].values)"
   ]
  },
  {
   "cell_type": "code",
   "execution_count": 27,
   "metadata": {},
   "outputs": [
    {
     "data": {
      "text/plain": [
       "SpearmanrResult(correlation=0.5148898159125749, pvalue=0.0)"
      ]
     },
     "execution_count": 27,
     "metadata": {},
     "output_type": "execute_result"
    }
   ],
   "source": [
    "scipy.stats.spearmanr(df['Площадь'].values, df['Несколько санузлов'].values)"
   ]
  },
  {
   "cell_type": "code",
   "execution_count": 28,
   "metadata": {},
   "outputs": [
    {
     "data": {
      "text/plain": [
       "SpearmanrResult(correlation=0.6047449898902657, pvalue=0.0)"
      ]
     },
     "execution_count": 28,
     "metadata": {},
     "output_type": "execute_result"
    }
   ],
   "source": [
    "scipy.stats.spearmanr(df['Площадь'].values, df['Кол-во комнат'].values)"
   ]
  },
  {
   "cell_type": "code",
   "execution_count": 29,
   "metadata": {},
   "outputs": [
    {
     "data": {
      "text/plain": [
       "SpearmanrResult(correlation=-0.5032993608981183, pvalue=0.0)"
      ]
     },
     "execution_count": 29,
     "metadata": {},
     "output_type": "execute_result"
    }
   ],
   "source": [
    "scipy.stats.spearmanr(df['Этажей в доме'].values,\n",
    "                      df['Возраст дома'].fillna(df.groupby(['Кол-во комнат'])['Возраст дома'].transform('median')))"
   ]
  },
  {
   "cell_type": "markdown",
   "metadata": {},
   "source": [
    "* Район сильнее связан как с абсолютной ценой, так и с ценой за метр квадратный, чем округ"
   ]
  },
  {
   "cell_type": "code",
   "execution_count": 30,
   "metadata": {},
   "outputs": [
    {
     "data": {
      "text/plain": [
       "array([51., 57., 52., ..., 16., 14., 14.])"
      ]
     },
     "execution_count": 30,
     "metadata": {},
     "output_type": "execute_result"
    }
   ],
   "source": [
    "df['Возраст дома'].fillna(df.groupby('Кол-во комнат')['Возраст дома'].transform('median')).values"
   ]
  },
  {
   "cell_type": "code",
   "execution_count": 31,
   "metadata": {},
   "outputs": [
    {
     "data": {
      "text/plain": [
       "SpearmanrResult(correlation=0.29927339405128434, pvalue=2.684018004584051e-294)"
      ]
     },
     "execution_count": 31,
     "metadata": {},
     "output_type": "execute_result"
    }
   ],
   "source": [
    "scipy.stats.spearmanr(df['Район'].values, target.astype(int)['Цена'].values)"
   ]
  },
  {
   "cell_type": "code",
   "execution_count": 32,
   "metadata": {},
   "outputs": [
    {
     "data": {
      "text/plain": [
       "SpearmanrResult(correlation=0.09587336239647344, pvalue=1.2903323021515915e-30)"
      ]
     },
     "execution_count": 32,
     "metadata": {},
     "output_type": "execute_result"
    }
   ],
   "source": [
    "scipy.stats.spearmanr(df['Метро'].values, target.astype(int)['Цена'].values)"
   ]
  },
  {
   "cell_type": "markdown",
   "metadata": {},
   "source": [
    "* По не ясной причине, доля куханной площади обратно пропорционально площади. Возможно, дело в количестве пропусков и том, что мы не имеем полной картины "
   ]
  },
  {
   "cell_type": "code",
   "execution_count": 33,
   "metadata": {},
   "outputs": [
    {
     "data": {
      "text/plain": [
       "array([[1.       , 0.1679089],\n",
       "       [0.1679089, 1.       ]])"
      ]
     },
     "execution_count": 33,
     "metadata": {},
     "output_type": "execute_result"
    }
   ],
   "source": [
    "np.corrcoef(df['Площадь'].values, \n",
    "            df['Доля жилой площади'].fillna(df.groupby('Кол-во комнат')['Доля жилой площади'].transform('median')))"
   ]
  },
  {
   "cell_type": "code",
   "execution_count": 34,
   "metadata": {},
   "outputs": [
    {
     "data": {
      "text/plain": [
       "array([[ 1.        , -0.43344788],\n",
       "       [-0.43344788,  1.        ]])"
      ]
     },
     "execution_count": 34,
     "metadata": {},
     "output_type": "execute_result"
    }
   ],
   "source": [
    "np.corrcoef(df['Площадь'].values, \n",
    "            df['Доля куханной площади'].fillna(df.groupby('Кол-во комнат')['Доля куханной площади'].transform('median')))"
   ]
  },
  {
   "cell_type": "code",
   "execution_count": 35,
   "metadata": {},
   "outputs": [
    {
     "data": {
      "image/png": "[encoded data removed]",
      "text/plain": [
       "<Figure size 720x720 with 2 Axes>"
      ]
     },
     "metadata": {
      "needs_background": "light"
     },
     "output_type": "display_data"
    }
   ],
   "source": [
    "fig, ax = plt.subplots(1, 1, figsize=(10, 10))\n",
    "ax = sns.heatmap(df.corr(method='spearman'), linewidth=0.5, square=True,  cmap=\"YlGnBu\")\n",
    "\n",
    "plt.savefig(PATH_TO_IMAGES + 'Матрица корреляции признаков')"
   ]
  },
  {
   "cell_type": "markdown",
   "metadata": {},
   "source": [
    "> Посмотрим на еще один способ изучить значимость признаков\n",
    "* SHAP"
   ]
  },
  {
   "cell_type": "code",
   "execution_count": 36,
   "metadata": {},
   "outputs": [],
   "source": [
    "import shap"
   ]
  },
  {
   "cell_type": "code",
   "execution_count": null,
   "metadata": {},
   "outputs": [
    {
     "name": "stdout",
     "output_type": "stream",
     "text": [
      "Wall time: 0 ns\n"
     ]
    }
   ],
   "source": [
    "%time\n",
    "# https://www.kaggle.com/dansbecker/advanced-uses-of-shap-values\n",
    "# https://blog.datascienceheroes.com/how-to-interpret-shap-values-in-r/\n",
    "# https://towardsdatascience.com/explain-any-models-with-the-shap-values-use-the-kernelexplainer-79de9464897a\n",
    "explainer = shap.TreeExplainer(regressor)\n",
    "shap_values = explainer.shap_values(df.iloc[:, ~df.columns.isin(cols_not_to_use)])\n",
    "shap.summary_plot(shap_values, df.iloc[:, ~df.columns.isin(cols_not_to_use)])"
   ]
  },
  {
   "cell_type": "code",
   "execution_count": null,
   "metadata": {},
   "outputs": [],
   "source": [
    "shap.dependence_plot(\"Округ\", shap_values, df.iloc[:, ~df.columns.isin(cols_not_to_use)])"
   ]
  },
  {
   "cell_type": "markdown",
   "metadata": {},
   "source": [
    "А так можно посмотреть на вклад в каждый отдельный лот"
   ]
  },
  {
   "cell_type": "code",
   "execution_count": null,
   "metadata": {},
   "outputs": [],
   "source": [
    "shap.initjs()\n",
    "shap.force_plot(explainer.expected_value, \n",
    "                shap_values[0:1], \n",
    "                df.iloc[:, ~df.columns.isin(cols_not_to_use)][0:1])"
   ]
  },
  {
   "cell_type": "code",
   "execution_count": null,
   "metadata": {},
   "outputs": [],
   "source": [
    "df.iloc[:, :][0:1]"
   ]
  },
  {
   "cell_type": "code",
   "execution_count": null,
   "metadata": {},
   "outputs": [],
   "source": [
    "label_encoder_dict['Кол-во комнат'].inverse_transform([0])"
   ]
  },
  {
   "cell_type": "code",
   "execution_count": null,
   "metadata": {},
   "outputs": [],
   "source": [
    "label_encoder_dict['Ремонт'].inverse_transform([1])"
   ]
  },
  {
   "cell_type": "code",
   "execution_count": null,
   "metadata": {},
   "outputs": [],
   "source": [
    "label_encoder_dict['Район'].inverse_transform([53])"
   ]
  },
  {
   "cell_type": "code",
   "execution_count": null,
   "metadata": {},
   "outputs": [],
   "source": [
    "label_encoder_dict['Метро'].inverse_transform([159])"
   ]
  },
  {
   "cell_type": "code",
   "execution_count": null,
   "metadata": {},
   "outputs": [],
   "source": []
  }
 ],
 "metadata": {
  "kernelspec": {
   "display_name": "Python 3",
   "language": "python",
   "name": "python3"
  },
  "language_info": {
   "codemirror_mode": {
    "name": "ipython",
    "version": 3
   },
   "file_extension": ".py",
   "mimetype": "text/x-python",
   "name": "python",
   "nbconvert_exporter": "python",
   "pygments_lexer": "ipython3",
   "version": "3.7.3"
  }
 },
 "nbformat": 4,
 "nbformat_minor": 4
}
