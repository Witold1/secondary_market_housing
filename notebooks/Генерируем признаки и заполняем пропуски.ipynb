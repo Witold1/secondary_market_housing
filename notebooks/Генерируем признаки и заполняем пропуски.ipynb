{
 "cells": [
  {
   "cell_type": "markdown",
   "metadata": {},
   "source": [
    "## План\n",
    "Мы **подготовим данные** с торговой площадки с лотами вторичной недвижимости (квартиры) в европейском мегаполисе для того, чтобы с помощью методов моделирования и анализа данных **определить значимые для цены факторы** этой недвижимости.\n",
    "\n",
    "**Подготовка данных:**\n",
    "* Заполнение и обработка пропусков и подозрительных данных\n",
    "* Предварительный разведывательный анализ данных:\n",
    "    * Распределение абсолютных цен лотов\n",
    "    * Распределение цен на метр площади лотов\n",
    "    * Распределение количества комнат и площади лотов\n",
    "* Генерация признаков на основе имеющихся данных и сохранение полученных признаков"
   ]
  },
  {
   "cell_type": "code",
   "execution_count": 1,
   "metadata": {},
   "outputs": [],
   "source": [
    "import numpy as np\n",
    "import pandas as pd\n",
    "import matplotlib.pyplot as plt\n",
    "import seaborn as sns\n",
    "\n",
    "import sklearn\n",
    "import statsmodels\n",
    "PATH_TO_RAW_DATA = '../data/raw/'\n",
    "PATH_TO_INTER_DATA = '../data/intermediate/'\n",
    "PATH_TO_PROCESSED_DATA = '../data/'\n",
    "PATH_TO_IMAGES = '../imgs/'\n",
    "\n",
    "import re\n",
    "import logging\n",
    "logger = logging.getLogger()\n",
    "logger.setLevel(logging.INFO)"
   ]
  },
  {
   "cell_type": "code",
   "execution_count": 2,
   "metadata": {},
   "outputs": [
    {
     "name": "stdout",
     "output_type": "stream",
     "text": [
      "<class 'pandas.core.frame.DataFrame'>\n",
      "RangeIndex: 14351 entries, 0 to 14350\n",
      "Data columns (total 17 columns):\n",
      " #   Column            Non-Null Count  Dtype  \n",
      "---  ------            --------------  -----  \n",
      " 0   Ссылка            14351 non-null  object \n",
      " 1   Адрес             14330 non-null  object \n",
      " 2   Площадь           14330 non-null  float64\n",
      " 3   Кол-во комнат     13667 non-null  object \n",
      " 4   Этаж              14329 non-null  float64\n",
      " 5   Этажей в доме     14329 non-null  float64\n",
      " 6   Метро             13789 non-null  object \n",
      " 7   Расст-е до метро  13542 non-null  object \n",
      " 8   Тип дома          10655 non-null  object \n",
      " 9   Санузел           12179 non-null  object \n",
      " 10  Балкон            9217 non-null   object \n",
      " 11  Ремонт            12081 non-null  object \n",
      " 12  Окна              9830 non-null   object \n",
      " 13  Год постройки     11061 non-null  float64\n",
      " 14  Жилая площадь     11742 non-null  float64\n",
      " 15  Площадь кухни     11809 non-null  float64\n",
      " 16  Цена              14330 non-null  float64\n",
      "dtypes: float64(7), object(10)\n",
      "memory usage: 1.9+ MB\n"
     ]
    }
   ],
   "source": [
    "df = pd.read_excel(PATH_TO_RAW_DATA + 'parsing_cian.xls', encoding='ascii', na_rep =np.nan)\n",
    "df.info()"
   ]
  },
  {
   "cell_type": "code",
   "execution_count": 3,
   "metadata": {},
   "outputs": [],
   "source": [
    "df['Цена за метр'] = df['Цена'] / df['Площадь']"
   ]
  },
  {
   "cell_type": "code",
   "execution_count": 4,
   "metadata": {},
   "outputs": [
    {
     "data": {
      "text/html": [
       "<div>\n",
       "<style scoped>\n",
       "    .dataframe tbody tr th:only-of-type {\n",
       "        vertical-align: middle;\n",
       "    }\n",
       "\n",
       "    .dataframe tbody tr th {\n",
       "        vertical-align: top;\n",
       "    }\n",
       "\n",
       "    .dataframe thead th {\n",
       "        text-align: right;\n",
       "    }\n",
       "</style>\n",
       "<table border=\"1\" class=\"dataframe\">\n",
       "  <thead>\n",
       "    <tr style=\"text-align: right;\">\n",
       "      <th></th>\n",
       "      <th>Ссылка</th>\n",
       "      <th>Адрес</th>\n",
       "      <th>Площадь</th>\n",
       "      <th>Кол-во комнат</th>\n",
       "      <th>Этаж</th>\n",
       "      <th>Этажей в доме</th>\n",
       "      <th>Метро</th>\n",
       "      <th>Расст-е до метро</th>\n",
       "      <th>Тип дома</th>\n",
       "      <th>Санузел</th>\n",
       "      <th>Балкон</th>\n",
       "      <th>Ремонт</th>\n",
       "      <th>Окна</th>\n",
       "      <th>Год постройки</th>\n",
       "      <th>Жилая площадь</th>\n",
       "      <th>Площадь кухни</th>\n",
       "      <th>Цена</th>\n",
       "      <th>Цена за метр</th>\n",
       "    </tr>\n",
       "  </thead>\n",
       "  <tbody>\n",
       "    <tr>\n",
       "      <th>0</th>\n",
       "      <td>https://cian.ru/sale/flat/229751453/</td>\n",
       "      <td>Москва, ВАО, р-н Гольяново, Байкальская ул., 42К2</td>\n",
       "      <td>33.0</td>\n",
       "      <td>1</td>\n",
       "      <td>9.0</td>\n",
       "      <td>9.0</td>\n",
       "      <td>Первомайская</td>\n",
       "      <td>15 мин. пешком</td>\n",
       "      <td>Монолитный</td>\n",
       "      <td>1 совмещенный</td>\n",
       "      <td>NaN</td>\n",
       "      <td>Без ремонта</td>\n",
       "      <td>Во двор</td>\n",
       "      <td>1969.0</td>\n",
       "      <td>16.0</td>\n",
       "      <td>7.0</td>\n",
       "      <td>5990000.0</td>\n",
       "      <td>181515.151515</td>\n",
       "    </tr>\n",
       "    <tr>\n",
       "      <th>1</th>\n",
       "      <td>https://cian.ru/sale/flat/228346306/</td>\n",
       "      <td>Москва, ЮЗАО, р-н Зюзино, ул. Каховка, 13К2</td>\n",
       "      <td>32.0</td>\n",
       "      <td>1</td>\n",
       "      <td>4.0</td>\n",
       "      <td>9.0</td>\n",
       "      <td>Чертановская</td>\n",
       "      <td>12 мин. пешком</td>\n",
       "      <td>Блочный</td>\n",
       "      <td>1 совмещенный</td>\n",
       "      <td>1 балкон</td>\n",
       "      <td>Косметический</td>\n",
       "      <td>NaN</td>\n",
       "      <td>1963.0</td>\n",
       "      <td>22.0</td>\n",
       "      <td>6.0</td>\n",
       "      <td>6790000.0</td>\n",
       "      <td>212187.500000</td>\n",
       "    </tr>\n",
       "    <tr>\n",
       "      <th>2</th>\n",
       "      <td>https://cian.ru/sale/flat/227956176/</td>\n",
       "      <td>Москва, ЗАО, р-н Кунцево, Истринская ул., 10К1</td>\n",
       "      <td>33.0</td>\n",
       "      <td>1</td>\n",
       "      <td>9.0</td>\n",
       "      <td>9.0</td>\n",
       "      <td>Молодежная</td>\n",
       "      <td>15 мин. пешком</td>\n",
       "      <td>Панельный</td>\n",
       "      <td>1 совмещенный</td>\n",
       "      <td>NaN</td>\n",
       "      <td>Дизайнерский</td>\n",
       "      <td>Во двор</td>\n",
       "      <td>1968.0</td>\n",
       "      <td>19.5</td>\n",
       "      <td>7.1</td>\n",
       "      <td>7190000.0</td>\n",
       "      <td>217878.787879</td>\n",
       "    </tr>\n",
       "  </tbody>\n",
       "</table>\n",
       "</div>"
      ],
      "text/plain": [
       "                                 Ссылка  \\\n",
       "0  https://cian.ru/sale/flat/229751453/   \n",
       "1  https://cian.ru/sale/flat/228346306/   \n",
       "2  https://cian.ru/sale/flat/227956176/   \n",
       "\n",
       "                                               Адрес  Площадь Кол-во комнат  \\\n",
       "0  Москва, ВАО, р-н Гольяново, Байкальская ул., 42К2     33.0             1   \n",
       "1        Москва, ЮЗАО, р-н Зюзино, ул. Каховка, 13К2     32.0             1   \n",
       "2     Москва, ЗАО, р-н Кунцево, Истринская ул., 10К1     33.0             1   \n",
       "\n",
       "   Этаж  Этажей в доме         Метро Расст-е до метро    Тип дома  \\\n",
       "0   9.0            9.0  Первомайская   15 мин. пешком  Монолитный   \n",
       "1   4.0            9.0  Чертановская   12 мин. пешком     Блочный   \n",
       "2   9.0            9.0    Молодежная   15 мин. пешком   Панельный   \n",
       "\n",
       "         Санузел    Балкон         Ремонт     Окна  Год постройки  \\\n",
       "0  1 совмещенный       NaN    Без ремонта  Во двор         1969.0   \n",
       "1  1 совмещенный  1 балкон  Косметический      NaN         1963.0   \n",
       "2  1 совмещенный       NaN   Дизайнерский  Во двор         1968.0   \n",
       "\n",
       "   Жилая площадь  Площадь кухни       Цена   Цена за метр  \n",
       "0           16.0            7.0  5990000.0  181515.151515  \n",
       "1           22.0            6.0  6790000.0  212187.500000  \n",
       "2           19.5            7.1  7190000.0  217878.787879  "
      ]
     },
     "execution_count": 4,
     "metadata": {},
     "output_type": "execute_result"
    }
   ],
   "source": [
    "df.head(3)"
   ]
  },
  {
   "cell_type": "markdown",
   "metadata": {},
   "source": [
    "Посмотрим на количество пропусков по признакам лотов"
   ]
  },
  {
   "cell_type": "code",
   "execution_count": 5,
   "metadata": {},
   "outputs": [
    {
     "data": {
      "text/plain": [
       "Ссылка                 0\n",
       "Адрес                 21\n",
       "Площадь               21\n",
       "Кол-во комнат        684\n",
       "Этаж                  22\n",
       "Этажей в доме         22\n",
       "Метро                562\n",
       "Расст-е до метро     809\n",
       "Тип дома            3696\n",
       "Санузел             2172\n",
       "Балкон              5134\n",
       "Ремонт              2270\n",
       "Окна                4521\n",
       "Год постройки       3290\n",
       "Жилая площадь       2609\n",
       "Площадь кухни       2542\n",
       "Цена                  21\n",
       "Цена за метр          21\n",
       "dtype: int64"
      ]
     },
     "execution_count": 5,
     "metadata": {},
     "output_type": "execute_result"
    }
   ],
   "source": [
    "df.isna().sum()"
   ]
  },
  {
   "cell_type": "markdown",
   "metadata": {},
   "source": [
    "### Почистим наши данные и обработаем пропуски\n",
    "* Удалим лоты без адреса (21 лот, не известна ни одна характеристика)\n",
    "* Удалим лоты без этажа (1 лот с большой площадью в центре под офис)\n",
    "\n",
    "* Заполним эвристиками (на основе распределений цен по известным) пропуски в поле `Кол-во комнат`:\n",
    "    * **все** лоты меньше $31$ метров площади отнесем к категории `Студия или Апартаменты` (`СиА`), туда же отнесем недвижимость классифицированную дающим объявление, как `Аппартаменты`)\n",
    "    * лоты с пропуском числа комнат и площадью до $42$ метров отнесем к категории `однокомнатные` (только $12%$ двухкомнатных меньше этого размера площади)\n",
    "    * лоты с пропуском числа комнат и площадью до $70$ метров отнесем к категории `двухкомнатные` (только $20%$ трехкомнатных меньше этого размера площади)\n",
    "    * лоты с пропуском числа комнат и площадью до $110$ метров отнесем к категории `трехкомнатные` (только $25%$ четырехкомнатных меньше этого размера площади)\n",
    "    * лоты с пропуском числа комнат и площадью до $140$ метров отнесем к категории `четырехкомнатные` (только $25%$ пятикомнатных меньше этого размера площади)\n",
    "    * остальные лоты с пропусками числа комнат отнесем к пятикомнатным\n",
    "    * **все** лоты площадью больше $190$ метров отнесем к категории `Многокомнатная или свободная планировка` (`МиСП`)\n",
    "    \n",
    "* Заменим указание на еще не открывшиеся станции метро (`откроется в X`) в поле с расстоянием до метро на `NaN` (11 лотов)"
   ]
  },
  {
   "cell_type": "code",
   "execution_count": 6,
   "metadata": {},
   "outputs": [],
   "source": [
    "def nans_processing(df : pd.DataFrame):\n",
    "    '''\n",
    "    Обрабатываем пропуски в важных колонках\n",
    "    * Этаж, Адрес -- удаляем пропуски \n",
    "    * Расстояние -- переводим пропуск из пустой строки в np.nan\n",
    "    * Кол-во комнат -- заполняем на основа квантилей известной выборки\n",
    "    '''\n",
    "    logging.info('Обработка пропусков: старт')\n",
    "    df = df[(~df['Адрес'].isna())]\n",
    "    df = df[(~df['Этаж'].isna())]\n",
    "    \n",
    "    # 2. кол-во комнат\n",
    "    ## квартиры меньше 31 метра отнесем к студиям и аппартаментам\n",
    "    df.loc[df['Площадь'] <= 31, 'Кол-во комнат'] = 'СиА'\n",
    "    df.loc[(df['Площадь'] <= 42) & (df['Кол-во комнат'].isna()), 'Кол-во комнат'] = 1\n",
    "    df.loc[(df['Площадь'] <= 70) & (df['Кол-во комнат'].isna()), 'Кол-во комнат'] = 2\n",
    "    df.loc[(df['Площадь'] <= 110) & (df['Кол-во комнат'].isna()), 'Кол-во комнат'] = 3\n",
    "    df.loc[(df['Площадь'] <= 140) & (df['Кол-во комнат'].isna()), 'Кол-во комнат'] = 4\n",
    "    df.loc[(df['Площадь'] < 200) & (df['Кол-во комнат'].isna()), 'Кол-во комнат'] = 5\n",
    "    df.loc[df['Кол-во комнат'] == 'Апартаменты', 'Кол-во комнат'] = 'СиА'\n",
    "    ## удалим подозрительные объявления\n",
    "    df.loc[(df['Площадь'] > 200) & (df['Кол-во комнат'] == 2)].dropna(inplace=True)\n",
    "    ## квартиры больше 190 метров отнесем к 'многоквартирым или свободной планировке'\n",
    "    df.loc[df['Площадь'] >= 190, 'Кол-во комнат'] = 'МиСП'\n",
    "    \n",
    "    df.loc[~df['Расст-е до метро'].str.contains('мин', na=True), 'Расст-е до метро'] = np.nan\n",
    "    \n",
    "    logging.info('Обработка пропусков: завершение')\n",
    "    return df"
   ]
  },
  {
   "cell_type": "code",
   "execution_count": 7,
   "metadata": {},
   "outputs": [
    {
     "name": "stderr",
     "output_type": "stream",
     "text": [
      "INFO:root:Обработка пропусков: старт\n",
      "D:\\Anaconda\\lib\\site-packages\\ipykernel_launcher.py:22: SettingWithCopyWarning: \n",
      "A value is trying to be set on a copy of a slice from a DataFrame\n",
      "\n",
      "See the caveats in the documentation: https://pandas.pydata.org/pandas-docs/stable/user_guide/indexing.html#returning-a-view-versus-a-copy\n",
      "INFO:root:Обработка пропусков: завершение\n"
     ]
    }
   ],
   "source": [
    "df = nans_processing(df)\n",
    "\n",
    "assert df.isna().sum().sum() < 28396, 'Пропуски не были удалены'"
   ]
  },
  {
   "cell_type": "markdown",
   "metadata": {},
   "source": [
    "***"
   ]
  },
  {
   "cell_type": "markdown",
   "metadata": {},
   "source": [
    "### Посмотрим на характеристики лотов\n",
    "* Рассматрим распределение **абсолютной цены**\n",
    "* Рассматрим распределение **цены за метр**\n",
    "* Рассматрим распределение **кол-ва комнат и площади**"
   ]
  },
  {
   "cell_type": "markdown",
   "metadata": {},
   "source": [
    "> Цены\n",
    "* Целевая переменная\n",
    "* Также, на графике без логорифма ограничим верхнее значение $95\\%$-ым квантилем по переменной ($95\\%$ значений его не превышают)"
   ]
  },
  {
   "cell_type": "code",
   "execution_count": 8,
   "metadata": {},
   "outputs": [
    {
     "data": {
      "image/png": "[encoded data removed]",
      "text/plain": [
       "<Figure size 864x360 with 2 Axes>"
      ]
     },
     "metadata": {
      "needs_background": "light"
     },
     "output_type": "display_data"
    }
   ],
   "source": [
    "fig, ax = plt.subplots(1, 2, figsize=(12, 5))\n",
    "ax[0] = np.clip(df['Цена'], 0, df['Цена'].quantile(0.95)).plot.hist(bins=50, rwidth=0.8, ax=ax[0], title='Цена')\n",
    "ax[1] = df['Цена'].apply(np.log).plot.hist(bins=50, rwidth=0.8, ax=ax[1], title='Цена (log)')\n",
    "\n",
    "plt.savefig(PATH_TO_IMAGES + 'Цены за метр')"
   ]
  },
  {
   "cell_type": "markdown",
   "metadata": {},
   "source": [
    "> Цены за единицу площади\n",
    "* Целевая переменная\n",
    "* Также, на графике без логорифма ограничим верхнее значение $99\\%$-ым квантилем по переменной ($99\\%$ значений его не превышают)"
   ]
  },
  {
   "cell_type": "code",
   "execution_count": 9,
   "metadata": {},
   "outputs": [
    {
     "data": {
      "image/png": "[encoded data removed]",
      "text/plain": [
       "<Figure size 864x360 with 2 Axes>"
      ]
     },
     "metadata": {
      "needs_background": "light"
     },
     "output_type": "display_data"
    }
   ],
   "source": [
    "fig, ax = plt.subplots(1, 2, figsize=(12, 5))\n",
    "ax[0] = np.clip((df['Цена'] / df['Площадь']), 0, (df['Цена'] / df['Площадь']).quantile(0.99)).plot.hist(bins=50, rwidth=0.8, ax=ax[0], title='Цена')\n",
    "ax[1] = (df['Цена'] / df['Площадь']).apply(np.log).plot.hist(bins=50, rwidth=0.8, ax=ax[1], title='Цена (log)')\n",
    "\n",
    "plt.savefig(PATH_TO_IMAGES + 'Цены за метр')"
   ]
  },
  {
   "cell_type": "markdown",
   "metadata": {},
   "source": [
    "> Число комнат и площади\n",
    "* В выборке преобладают квартиры из 3 комнат, площадью 100 метров\n",
    "* Медианное значение площади $75$ метров, \n",
    "* $1/10$ доля всех лотов не превышает 35 метров, а $90\\%$ лотов не превышают $150$ метров"
   ]
  },
  {
   "cell_type": "code",
   "execution_count": 10,
   "metadata": {},
   "outputs": [
    {
     "data": {
      "image/png": "[encoded data removed]",
      "text/plain": [
       "<Figure size 864x360 with 3 Axes>"
      ]
     },
     "metadata": {
      "needs_background": "light"
     },
     "output_type": "display_data"
    }
   ],
   "source": [
    "fig, ax = plt.subplots(1, 3, figsize=(12, 5))\n",
    "ax[0] = df['Кол-во комнат'].value_counts().plot.bar(ax=ax[0], title='Число комнат', zorder=2)\n",
    "ax[0].grid(True)\n",
    "ax[1] = df['Площадь'].plot.hist(bins=30, rwidth=0.8, ax=ax[1], title='Площадь', zorder=2)\n",
    "ax[1].grid(True)\n",
    "ax[2] = df['Площадь'].apply(np.log).plot.hist(bins=30, rwidth=0.8, ax=ax[2], title='Площадь (log)')\n",
    "ax[2].grid(True)\n",
    "plt.tight_layout()\n",
    "\n",
    "plt.savefig(PATH_TO_IMAGES + 'Число комнат и площади')"
   ]
  },
  {
   "cell_type": "markdown",
   "metadata": {},
   "source": [
    "Также, посмотрим на площадь в зависимости от числа комнат.\n",
    "* Интересно, что категория Студии и Апартаменты занимает наименьшую площадь, но распределение цен квадратного метра в них правее (значения больше), чем, например, в квартирах с 1 или даже 2 комнатами (вероятно, причина в имеющейся выборке и другим характеристикам этой категории)"
   ]
  },
  {
   "cell_type": "code",
   "execution_count": 11,
   "metadata": {},
   "outputs": [
    {
     "data": {
      "image/png": "[encoded data removed]",
      "text/plain": [
       "<Figure size 864x360 with 1 Axes>"
      ]
     },
     "metadata": {
      "needs_background": "light"
     },
     "output_type": "display_data"
    }
   ],
   "source": [
    "fig, ax = plt.subplots(1, 1, figsize=(12, 5))\n",
    "sns.boxplot(y='Кол-во комнат', x='Площадь', data=df, showfliers=False)\n",
    "plt.suptitle('Площадь от числа комнат');\n",
    "plt.tight_layout(rect=[0, 0.03, 1, 0.95])\n",
    "\n",
    "plt.savefig(PATH_TO_IMAGES + 'Площадь и число комнат')"
   ]
  },
  {
   "cell_type": "code",
   "execution_count": 26,
   "metadata": {},
   "outputs": [
    {
     "data": {
      "image/png": "[encoded data removed]",
      "text/plain": [
       "<Figure size 864x360 with 1 Axes>"
      ]
     },
     "metadata": {
      "needs_background": "light"
     },
     "output_type": "display_data"
    }
   ],
   "source": [
    "# sns.boxplot(y='Кол-во комнат', x='Цена за метр^2', data=pd.concat([df, df_feature_generated], axis=1), showfliers=False)"
   ]
  },
  {
   "cell_type": "markdown",
   "metadata": {},
   "source": [
    "***"
   ]
  },
  {
   "cell_type": "markdown",
   "metadata": {},
   "source": [
    "### Расширим наше признаковое пространство\n",
    "Сгенерируем дополнительные признаки на основе имеющихся данных\n",
    "<img src=\"https://sun9-40.userapi.com/c857628/v857628789/1f0c46/eSwQt6LHzSg.jpg\" alt=\"Список признаков\" style=\"width:500px;height:600px;\">"
   ]
  },
  {
   "cell_type": "code",
   "execution_count": 13,
   "metadata": {},
   "outputs": [
    {
     "data": {
      "text/html": [
       "<div>\n",
       "<style scoped>\n",
       "    .dataframe tbody tr th:only-of-type {\n",
       "        vertical-align: middle;\n",
       "    }\n",
       "\n",
       "    .dataframe tbody tr th {\n",
       "        vertical-align: top;\n",
       "    }\n",
       "\n",
       "    .dataframe thead th {\n",
       "        text-align: right;\n",
       "    }\n",
       "</style>\n",
       "<table border=\"1\" class=\"dataframe\">\n",
       "  <thead>\n",
       "    <tr style=\"text-align: right;\">\n",
       "      <th></th>\n",
       "      <th>Ссылка</th>\n",
       "      <th>Адрес</th>\n",
       "      <th>Площадь</th>\n",
       "      <th>Кол-во комнат</th>\n",
       "      <th>Этаж</th>\n",
       "      <th>Этажей в доме</th>\n",
       "      <th>Метро</th>\n",
       "      <th>Расст-е до метро</th>\n",
       "      <th>Тип дома</th>\n",
       "      <th>Санузел</th>\n",
       "      <th>Балкон</th>\n",
       "      <th>Ремонт</th>\n",
       "      <th>Окна</th>\n",
       "      <th>Год постройки</th>\n",
       "      <th>Жилая площадь</th>\n",
       "      <th>Площадь кухни</th>\n",
       "      <th>Цена</th>\n",
       "      <th>Цена за метр</th>\n",
       "    </tr>\n",
       "  </thead>\n",
       "  <tbody>\n",
       "    <tr>\n",
       "      <th>0</th>\n",
       "      <td>https://cian.ru/sale/flat/229751453/</td>\n",
       "      <td>Москва, ВАО, р-н Гольяново, Байкальская ул., 42К2</td>\n",
       "      <td>33.0</td>\n",
       "      <td>1</td>\n",
       "      <td>9.0</td>\n",
       "      <td>9.0</td>\n",
       "      <td>Первомайская</td>\n",
       "      <td>15 мин. пешком</td>\n",
       "      <td>Монолитный</td>\n",
       "      <td>1 совмещенный</td>\n",
       "      <td>NaN</td>\n",
       "      <td>Без ремонта</td>\n",
       "      <td>Во двор</td>\n",
       "      <td>1969.0</td>\n",
       "      <td>16.0</td>\n",
       "      <td>7.0</td>\n",
       "      <td>5990000.0</td>\n",
       "      <td>181515.151515</td>\n",
       "    </tr>\n",
       "  </tbody>\n",
       "</table>\n",
       "</div>"
      ],
      "text/plain": [
       "                                 Ссылка  \\\n",
       "0  https://cian.ru/sale/flat/229751453/   \n",
       "\n",
       "                                               Адрес  Площадь Кол-во комнат  \\\n",
       "0  Москва, ВАО, р-н Гольяново, Байкальская ул., 42К2     33.0             1   \n",
       "\n",
       "   Этаж  Этажей в доме         Метро Расст-е до метро    Тип дома  \\\n",
       "0   9.0            9.0  Первомайская   15 мин. пешком  Монолитный   \n",
       "\n",
       "         Санузел Балкон       Ремонт     Окна  Год постройки  Жилая площадь  \\\n",
       "0  1 совмещенный    NaN  Без ремонта  Во двор         1969.0           16.0   \n",
       "\n",
       "   Площадь кухни       Цена   Цена за метр  \n",
       "0            7.0  5990000.0  181515.151515  "
      ]
     },
     "execution_count": 13,
     "metadata": {},
     "output_type": "execute_result"
    }
   ],
   "source": [
    "df.head(1)"
   ]
  },
  {
   "cell_type": "code",
   "execution_count": 14,
   "metadata": {},
   "outputs": [],
   "source": [
    "def feature_generation(df : pd.DataFrame):\n",
    "    '''\n",
    "    Генерируем вспомогательные признаки по плану из статьи\n",
    "    https://sun9-40.userapi.com/c857628/v857628789/1f0c46/eSwQt6LHzSg.jpg\n",
    "    Также, дополнительные признаки\n",
    "    '''\n",
    "    df_aux = pd.DataFrame([])\n",
    "    logging.info('Генерация признаков: старт')\n",
    "    \n",
    "    df_aux['Цена за метр^2'] = df['Цена'] / df['Площадь']\n",
    "    df_aux['Площадь лог'] = np.log(df['Площадь'])\n",
    "    \n",
    "    df_aux['Округ'] = df['Адрес'].str.extract('(?:.+?),(.+?),')[0].str.strip()\n",
    "    df_aux['Район'] =df['Адрес'].str.extract('(?:.+?),(?:.+?),(.+?),')[0].str.strip()\n",
    "    df_aux['Первый этаж'] = df['Этаж'] == 1\n",
    "    df_aux['Последний этаж'] = df['Этаж'] == df['Этажей в доме']\n",
    "    # 9. 541 пропуск станции метро -- можно попробовать подгрузить из api навигаторов и карт\n",
    "    # 10. 787 пропуск расстояния до метро -- можно попробовать подгрузить из api навигаторов и карт\n",
    "    df_aux['Расстояние до метро (ед)'] = df['Расст-е до метро'].str.extract('(\\d*)')\n",
    "    df_aux['Расстояние указано пешком'] = df['Расст-е до метро'].str.contains('пешком', na=False)\n",
    "    df_aux['Расстояние указано на транспорте'] = df['Расст-е до метро'].str.contains('трансп', na=False)\n",
    "    # 11. 3675 пропуск типа дома -- можно попробовать подгрузить из кадастрового реестра\n",
    "    # 12. 2151 пропуск в санузлах\n",
    "    df_aux['Указан раздельный санузел'] = df['Санузел'].str.contains('раздельн', na=False)\n",
    "    df_aux['Несколько санузлов'] = df['Санузел'].str.contains('(?:[-2])|,', na=False)\n",
    "    # 13. 5112 пропуск в балконах\n",
    "    df_aux['Балкон указан'] = ~df['Балкон'].isna()\n",
    "    # 14. 4500 пропуск в окнах\n",
    "    df_aux['Окна во двор'] = df['Окна'].isin(['Во двор', 'На улицу и двор'])\n",
    "    df_aux['Наличие ремонта'] = df['Ремонт'] != 'Без ремонта'\n",
    "    # 16. 3269 пропуск в возрасте дома -- можно попробовать подгрузить из кадастрового реестра\n",
    "    df_aux['Возраст дома'] = pd.to_datetime('today').year - df['Год постройки']\n",
    "    # 17. 2587 пропуск в жилой площади -- можно заполнять на основе распределений в выборке\n",
    "    df_aux['Доля жилой площади'] = df['Жилая площадь'] / df['Площадь']\n",
    "    df_aux['Доля куханной площади'] = df['Площадь кухни'] / df['Площадь']\n",
    "    # 18. 2520 пропуск в площади кухни -- можно заполнять на основе распределений в выборке\n",
    "    logging.info('Генерация признаков: завершение')\n",
    "    \n",
    "    logging.info('Генерация признаков: сохрнение в отдельный файл')\n",
    "    df_aux.to_csv(PATH_TO_INTER_DATA + 'generated_features' + '.csv')\n",
    "    \n",
    "    return df_aux"
   ]
  },
  {
   "cell_type": "code",
   "execution_count": 15,
   "metadata": {},
   "outputs": [
    {
     "name": "stderr",
     "output_type": "stream",
     "text": [
      "INFO:root:Генерация признаков: старт\n",
      "INFO:root:Генерация признаков: завершение\n",
      "INFO:root:Генерация признаков: сохрнение в отдельный файл\n"
     ]
    },
    {
     "name": "stdout",
     "output_type": "stream",
     "text": [
      "Wall time: 0 ns\n"
     ]
    },
    {
     "data": {
      "text/html": [
       "<div>\n",
       "<style scoped>\n",
       "    .dataframe tbody tr th:only-of-type {\n",
       "        vertical-align: middle;\n",
       "    }\n",
       "\n",
       "    .dataframe tbody tr th {\n",
       "        vertical-align: top;\n",
       "    }\n",
       "\n",
       "    .dataframe thead th {\n",
       "        text-align: right;\n",
       "    }\n",
       "</style>\n",
       "<table border=\"1\" class=\"dataframe\">\n",
       "  <thead>\n",
       "    <tr style=\"text-align: right;\">\n",
       "      <th></th>\n",
       "      <th>Цена за метр^2</th>\n",
       "      <th>Площадь лог</th>\n",
       "      <th>Округ</th>\n",
       "      <th>Район</th>\n",
       "      <th>Первый этаж</th>\n",
       "      <th>Последний этаж</th>\n",
       "      <th>Расстояние до метро (ед)</th>\n",
       "      <th>Расстояние указано пешком</th>\n",
       "      <th>Расстояние указано на транспорте</th>\n",
       "      <th>Указан раздельный санузел</th>\n",
       "      <th>Несколько санузлов</th>\n",
       "      <th>Балкон указан</th>\n",
       "      <th>Окна во двор</th>\n",
       "      <th>Наличие ремонта</th>\n",
       "      <th>Возраст дома</th>\n",
       "      <th>Доля жилой площади</th>\n",
       "      <th>Доля куханной площади</th>\n",
       "    </tr>\n",
       "  </thead>\n",
       "  <tbody>\n",
       "    <tr>\n",
       "      <th>0</th>\n",
       "      <td>181515.151515</td>\n",
       "      <td>3.496508</td>\n",
       "      <td>ВАО</td>\n",
       "      <td>р-н Гольяново</td>\n",
       "      <td>False</td>\n",
       "      <td>True</td>\n",
       "      <td>15</td>\n",
       "      <td>True</td>\n",
       "      <td>False</td>\n",
       "      <td>False</td>\n",
       "      <td>False</td>\n",
       "      <td>False</td>\n",
       "      <td>True</td>\n",
       "      <td>False</td>\n",
       "      <td>51.0</td>\n",
       "      <td>0.484848</td>\n",
       "      <td>0.212121</td>\n",
       "    </tr>\n",
       "    <tr>\n",
       "      <th>1</th>\n",
       "      <td>212187.500000</td>\n",
       "      <td>3.465736</td>\n",
       "      <td>ЮЗАО</td>\n",
       "      <td>р-н Зюзино</td>\n",
       "      <td>False</td>\n",
       "      <td>False</td>\n",
       "      <td>12</td>\n",
       "      <td>True</td>\n",
       "      <td>False</td>\n",
       "      <td>False</td>\n",
       "      <td>False</td>\n",
       "      <td>True</td>\n",
       "      <td>False</td>\n",
       "      <td>True</td>\n",
       "      <td>57.0</td>\n",
       "      <td>0.687500</td>\n",
       "      <td>0.187500</td>\n",
       "    </tr>\n",
       "    <tr>\n",
       "      <th>2</th>\n",
       "      <td>217878.787879</td>\n",
       "      <td>3.496508</td>\n",
       "      <td>ЗАО</td>\n",
       "      <td>р-н Кунцево</td>\n",
       "      <td>False</td>\n",
       "      <td>True</td>\n",
       "      <td>15</td>\n",
       "      <td>True</td>\n",
       "      <td>False</td>\n",
       "      <td>False</td>\n",
       "      <td>False</td>\n",
       "      <td>False</td>\n",
       "      <td>True</td>\n",
       "      <td>True</td>\n",
       "      <td>52.0</td>\n",
       "      <td>0.590909</td>\n",
       "      <td>0.215152</td>\n",
       "    </tr>\n",
       "  </tbody>\n",
       "</table>\n",
       "</div>"
      ],
      "text/plain": [
       "   Цена за метр^2  Площадь лог Округ          Район  Первый этаж  \\\n",
       "0   181515.151515     3.496508   ВАО  р-н Гольяново        False   \n",
       "1   212187.500000     3.465736  ЮЗАО     р-н Зюзино        False   \n",
       "2   217878.787879     3.496508   ЗАО    р-н Кунцево        False   \n",
       "\n",
       "   Последний этаж Расстояние до метро (ед)  Расстояние указано пешком  \\\n",
       "0            True                       15                       True   \n",
       "1           False                       12                       True   \n",
       "2            True                       15                       True   \n",
       "\n",
       "   Расстояние указано на транспорте  Указан раздельный санузел  \\\n",
       "0                             False                      False   \n",
       "1                             False                      False   \n",
       "2                             False                      False   \n",
       "\n",
       "   Несколько санузлов  Балкон указан  Окна во двор  Наличие ремонта  \\\n",
       "0               False          False          True            False   \n",
       "1               False           True         False             True   \n",
       "2               False          False          True             True   \n",
       "\n",
       "   Возраст дома  Доля жилой площади  Доля куханной площади  \n",
       "0          51.0            0.484848               0.212121  \n",
       "1          57.0            0.687500               0.187500  \n",
       "2          52.0            0.590909               0.215152  "
      ]
     },
     "execution_count": 15,
     "metadata": {},
     "output_type": "execute_result"
    }
   ],
   "source": [
    "%time\n",
    "df_feature_generated = feature_generation(df)\n",
    "assert df.shape[0] == df_feature_generated.shape[0], 'Количество строк в исходном и сгенерированном файлах не равно'\n",
    "\n",
    "df_feature_generated.head(3)"
   ]
  },
  {
   "cell_type": "markdown",
   "metadata": {},
   "source": [
    "Посмотрим на полученные колонки сгенерированных признаков"
   ]
  },
  {
   "cell_type": "code",
   "execution_count": 16,
   "metadata": {},
   "outputs": [
    {
     "data": {
      "text/plain": [
       "Index(['Цена за метр^2', 'Площадь лог', 'Округ', 'Район', 'Первый этаж',\n",
       "       'Последний этаж', 'Расстояние до метро (ед)',\n",
       "       'Расстояние указано пешком', 'Расстояние указано на транспорте',\n",
       "       'Указан раздельный санузел', 'Несколько санузлов', 'Балкон указан',\n",
       "       'Окна во двор', 'Наличие ремонта', 'Возраст дома', 'Доля жилой площади',\n",
       "       'Доля куханной площади'],\n",
       "      dtype='object')"
      ]
     },
     "execution_count": 16,
     "metadata": {},
     "output_type": "execute_result"
    }
   ],
   "source": [
    "df_feature_generated.columns"
   ]
  },
  {
   "cell_type": "markdown",
   "metadata": {},
   "source": [
    "Посмотрим на колонки базовых признаков"
   ]
  },
  {
   "cell_type": "code",
   "execution_count": 17,
   "metadata": {},
   "outputs": [
    {
     "data": {
      "text/plain": [
       "Index(['Ссылка', 'Адрес', 'Площадь', 'Кол-во комнат', 'Этаж', 'Этажей в доме',\n",
       "       'Метро', 'Расст-е до метро', 'Тип дома', 'Санузел', 'Балкон', 'Ремонт',\n",
       "       'Окна', 'Год постройки', 'Жилая площадь', 'Площадь кухни', 'Цена',\n",
       "       'Цена за метр'],\n",
       "      dtype='object')"
      ]
     },
     "execution_count": 17,
     "metadata": {},
     "output_type": "execute_result"
    }
   ],
   "source": [
    "df.columns"
   ]
  },
  {
   "cell_type": "markdown",
   "metadata": {},
   "source": [
    "***"
   ]
  },
  {
   "cell_type": "markdown",
   "metadata": {},
   "source": [
    "Подведём список всех доступных, начальных и полученных, первично предобработанных признаков (`feature_columns`), значимость которых на цену предложения (либо абсолютную, либо за единицу площади; `target_column`) будем измерять при моделировании."
   ]
  },
  {
   "cell_type": "code",
   "execution_count": 18,
   "metadata": {},
   "outputs": [],
   "source": [
    "feature_columns = ['Округ', 'Район', \n",
    "                   'Площадь', 'Площадь лог', 'Кол-во комнат', 'Этаж', 'Этажей в доме', 'Первый этаж', 'Последний этаж',\n",
    "                   'Метро', 'Расстояние до метро (ед)', 'Расстояние указано пешком', 'Расстояние указано на транспорте',\n",
    "                   'Тип дома', 'Указан раздельный санузел', 'Несколько санузлов', 'Балкон указан', \n",
    "                   'Окна', 'Окна во двор',\n",
    "                   'Ремонт', 'Наличие ремонта', 'Возраст дома', \n",
    "                   'Доля жилой площади', 'Доля куханной площади', 'Площадь кухни'\n",
    "                  ]\n",
    "target_column = ['Цена за метр^2', 'Цена']"
   ]
  },
  {
   "cell_type": "markdown",
   "metadata": {},
   "source": [
    "Еще раз проверим распределение числа пропусков в предобработанном наборе данных"
   ]
  },
  {
   "cell_type": "code",
   "execution_count": 19,
   "metadata": {},
   "outputs": [
    {
     "data": {
      "text/plain": [
       "<matplotlib.axes._subplots.AxesSubplot at 0x737ccbc978>"
      ]
     },
     "execution_count": 19,
     "metadata": {},
     "output_type": "execute_result"
    },
    {
     "data": {
      "image/png": "[encoded data removed]",
      "text/plain": [
       "<Figure size 432x288 with 1 Axes>"
      ]
     },
     "metadata": {
      "needs_background": "light"
     },
     "output_type": "display_data"
    }
   ],
   "source": [
    "pd.concat([df, df_feature_generated], axis=1)[feature_columns].isna().sum()\\\n",
    "    .sort_values(ascending=False).plot.bar(title='Число пропусков (от 14351 наблюдений)')"
   ]
  },
  {
   "cell_type": "markdown",
   "metadata": {},
   "source": [
    "Сохраним в отдельный файл, с которым будем работать при моделировании"
   ]
  },
  {
   "cell_type": "code",
   "execution_count": 20,
   "metadata": {},
   "outputs": [
    {
     "name": "stdout",
     "output_type": "stream",
     "text": [
      "Wall time: 0 ns\n"
     ]
    }
   ],
   "source": [
    "%time\n",
    "pd.concat([df, df_feature_generated], axis=1)[feature_columns].to_csv(PATH_TO_PROCESSED_DATA + 'features_dataset' + '.csv')\n",
    "pd.concat([df, df_feature_generated], axis=1)[target_column].to_csv(PATH_TO_PROCESSED_DATA + 'target_column' + '.csv')"
   ]
  }
 ],
 "metadata": {
  "kernelspec": {
   "display_name": "Python 3",
   "language": "python",
   "name": "python3"
  },
  "language_info": {
   "codemirror_mode": {
    "name": "ipython",
    "version": 3
   },
   "file_extension": ".py",
   "mimetype": "text/x-python",
   "name": "python",
   "nbconvert_exporter": "python",
   "pygments_lexer": "ipython3",
   "version": "3.7.3"
  }
 },
 "nbformat": 4,
 "nbformat_minor": 4
}
