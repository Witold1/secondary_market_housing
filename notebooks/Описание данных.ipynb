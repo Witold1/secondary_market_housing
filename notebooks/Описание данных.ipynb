{
 "cells": [
  {
   "cell_type": "markdown",
   "metadata": {},
   "source": [
    "<div style=\"border-left: solid 6px #d6d6d6; padding: 10px; background-color: #eaeaea\">\n",
    "<b><i>Описание данных.</i></b></div>"
   ]
  },
  {
   "cell_type": "markdown",
   "metadata": {},
   "source": [
    "Надо $\\approx 15000$ лотов, "
   ]
  },
  {
   "cell_type": "markdown",
   "metadata": {},
   "source": [
    "<div style=\"border-left: solid 6px #d6d6d6; padding: 10px; background-color: #eaeaea\">\n",
    "<b><i>Преодобработки.</i></b></div>\n",
    "\n",
    "> * Приведём категориальные признаки колонки к категориями\n",
    "* Закодируем категории"
   ]
  },
  {
   "cell_type": "code",
   "execution_count": null,
   "metadata": {},
   "outputs": [],
   "source": []
  },
  {
   "cell_type": "markdown",
   "metadata": {},
   "source": [
    "<div style=\"border-left: solid 6px #d6d6d6; padding: 10px; background-color: #eaeaea\">\n",
    "<b><i>Описание модели, метрик и валидации.</i></b></div>\n",
    "\n",
    "> * Мы взяли алгоритм градиентного бустинга (имплементация lightgbm) и решали задачу регрессии\n",
    "* Параметры подбирались интуитивно, с последующей валидацие на отложенной выборке с большей регуляризацией\n",
    "* Основная модель валидации: отложенная выборка $50%$, со стратификацией по кол-ву комнат.\n",
    "    * То есть, мы моделируем ситуацию, когда у нас было $\\approx 7000$ лотов, а потом пришло еще 7000 тысяч, с примерным сохранением количества комнат*, и мы хотим узнать, насколько хорошо наша модель может объяснить цену на них.\n",
    "    * Проблемой такого подхода может быть недостаточное количество наблюдений по категориям чтобы построить хорошую модель на них. Например, всего лотов _категории Z_ меньше $1000$, и в них есть высокая неоднородность\n",
    "* С точки зрения метрик качества, в зависимости от степени регуляризации модели и категорий: \n",
    "    * $R^2$ лежит в интервале от $0.75$ до $0.9$ (доля объясненной дисперсии) \n",
    "    * относительные ошибки прогнозов лежат в интервале от $0.08$ до $0.3$ (от $\\pm 8\\%$ для студий до $\\pm 30\\%$ для неоднородных лотов $190+$ метров с отложенной выборкой в половину)"
   ]
  },
  {
   "cell_type": "code",
   "execution_count": null,
   "metadata": {},
   "outputs": [],
   "source": []
  },
  {
   "cell_type": "markdown",
   "metadata": {},
   "source": [
    "<div style=\"border-left: solid 6px #d6d6d6; padding: 10px; background-color: #eaeaea\">\n",
    "<b><i>Описание предобработки.</i></b></div>\n",
    "\n",
    "> * Приведём категориальные признаки колонки к категориями\n",
    "* Закодируем категории"
   ]
  },
  {
   "cell_type": "code",
   "execution_count": null,
   "metadata": {},
   "outputs": [],
   "source": []
  },
  {
   "cell_type": "code",
   "execution_count": null,
   "metadata": {},
   "outputs": [],
   "source": []
  }
 ],
 "metadata": {
  "kernelspec": {
   "display_name": "Python 3",
   "language": "python",
   "name": "python3"
  },
  "language_info": {
   "codemirror_mode": {
    "name": "ipython",
    "version": 3
   },
   "file_extension": ".py",
   "mimetype": "text/x-python",
   "name": "python",
   "nbconvert_exporter": "python",
   "pygments_lexer": "ipython3",
   "version": "3.7.3"
  }
 },
 "nbformat": 4,
 "nbformat_minor": 4
}
